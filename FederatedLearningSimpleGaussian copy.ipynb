{
 "cells": [
  {
   "cell_type": "code",
   "execution_count": 1,
   "metadata": {},
   "outputs": [
    {
     "name": "stderr",
     "output_type": "stream",
     "text": [
      "/usr/local/lib/python3.8/dist-packages/tqdm/auto.py:22: TqdmWarning: IProgress not found. Please update jupyter and ipywidgets. See https://ipywidgets.readthedocs.io/en/stable/user_install.html\n",
      "  from .autonotebook import tqdm as notebook_tqdm\n"
     ]
    }
   ],
   "source": [
    "\n",
    "###############################\n",
    "##### importing libraries #####\n",
    "###############################\n",
    "\n",
    "import os\n",
    "import random\n",
    "from tqdm import tqdm\n",
    "import numpy as np, numpy.random\n",
    "import torch, torchvision\n",
    "import torch.nn as nn\n",
    "import torch.nn.functional as F\n",
    "import torch.optim as optim\n",
    "from torchvision import datasets, transforms\n",
    "from torch.utils.data.dataset import Dataset  \n",
    "from torchvision.transforms import Compose\n",
    "torch.backends.cudnn.benchmark=True"
   ]
  },
  {
   "cell_type": "code",
   "execution_count": 2,
   "metadata": {},
   "outputs": [],
   "source": [
    "##### Hyperparameters for federated learning #########\n",
    "num_clients = 20\n",
    "num_selected = 6\n",
    "num_rounds = 150\n",
    "epochs = 5\n",
    "batch_size = 32\n",
    "\n",
    "classes_pc = 5"
   ]
  },
  {
   "cell_type": "code",
   "execution_count": 3,
   "metadata": {},
   "outputs": [],
   "source": [
    "class AddGaussianNoise(object):\n",
    "    def __init__(self, mean=0., std=1.):\n",
    "        self.std = std\n",
    "        self.mean = mean\n",
    "        \n",
    "    def __call__(self, tensor):\n",
    "        return (tensor + torch.randn(tensor.size()) * self.std + self.mean)\n",
    "    \n",
    "    def __repr__(self):\n",
    "        return self.__class__.__name__ + '(mean={0}, std={1})'.format(self.mean, self.std)"
   ]
  },
  {
   "cell_type": "code",
   "execution_count": null,
   "metadata": {},
   "outputs": [],
   "source": []
  },
  {
   "cell_type": "code",
   "execution_count": 4,
   "metadata": {},
   "outputs": [
    {
     "data": {
      "text/plain": [
       "array([0.00557499, 0.00836495, 0.02394668, 0.03684428, 0.02415121,\n",
       "       0.03046735, 0.07228645, 0.00816601, 0.22930134, 0.12300158,\n",
       "       0.00642051, 0.1243734 , 0.00694679, 0.00563139, 0.00341745,\n",
       "       0.00922941, 0.12025707, 0.00542337, 0.02575797, 0.13043778])"
      ]
     },
     "execution_count": 4,
     "metadata": {},
     "output_type": "execute_result"
    }
   ],
   "source": [
    "np.random.dirichlet(np.ones(num_clients), size=1)[0]"
   ]
  },
  {
   "cell_type": "code",
   "execution_count": 5,
   "metadata": {},
   "outputs": [],
   "source": [
    "def get_cifar10():\n",
    "  '''Return CIFAR10 train/test data and labels as numpy arrays'''\n",
    "  data_train = torchvision.datasets.CIFAR10('./data', train=True, download=True)\n",
    "  data_test = torchvision.datasets.CIFAR10('./data', train=False, download=True) \n",
    "  \n",
    "  x_train, y_train = data_train.data.transpose((0,3,1,2)), np.array(data_train.targets)\n",
    "  x_test, y_test = data_test.data.transpose((0,3,1,2)), np.array(data_test.targets)\n",
    "  \n",
    "  return x_train, y_train, x_test, y_test\n",
    "\n",
    "def print_image_data_stats(data_train, labels_train, data_test, labels_test):\n",
    "  print(\"\\nData: \")\n",
    "  print(\" - Train Set: ({},{}), Range: [{:.3f}, {:.3f}], Labels: {},..,{}\".format(\n",
    "    data_train.shape, labels_train.shape, np.min(data_train), np.max(data_train),\n",
    "      np.min(labels_train), np.max(labels_train)))\n",
    "  print(\" - Test Set: ({},{}), Range: [{:.3f}, {:.3f}], Labels: {},..,{}\".format(\n",
    "    data_test.shape, labels_test.shape, np.min(data_train), np.max(data_train),\n",
    "      np.min(labels_test), np.max(labels_test)))"
   ]
  },
  {
   "cell_type": "code",
   "execution_count": 6,
   "metadata": {},
   "outputs": [],
   "source": [
    "\n",
    "def clients_rand(train_len, nclients):\n",
    "  '''\n",
    "  train_len: size of the train data\n",
    "  nclients: number of clients\n",
    "  \n",
    "  Returns: to_ret\n",
    "  \n",
    "  This function creates a random distribution \n",
    "  for the clients, i.e. number of images each client \n",
    "  possess.\n",
    "  '''\n",
    "  client_tmp=[]\n",
    "  sum_=0\n",
    "  #### creating random values for each client ####\n",
    "  for i in range(nclients-1):\n",
    "    tmp=random.randint(10,100)\n",
    "    sum_+=tmp\n",
    "    client_tmp.append(tmp)\n",
    "\n",
    "  client_tmp= np.array(client_tmp)\n",
    "  #### using those random values as weights ####\n",
    "  clients_dist= ((client_tmp/sum_)*train_len).astype(int)\n",
    "  num  = train_len - clients_dist.sum()\n",
    "  to_ret = list(clients_dist)\n",
    "  to_ret.append(num)\n",
    "  return to_ret"
   ]
  },
  {
   "attachments": {},
   "cell_type": "markdown",
   "metadata": {},
   "source": [
    "https://towardsdatascience.com/preserving-data-privacy-in-deep-learning-part-2-6c2e9494398b"
   ]
  },
  {
   "cell_type": "code",
   "execution_count": 7,
   "metadata": {},
   "outputs": [],
   "source": [
    "\n",
    "def split_image_data_realwd(data, labels, n_clients=100, verbose=True):\n",
    "  '''\n",
    "  Splits (data, labels) among 'n_clients s.t. every client can holds any number of classes which is trying to simulate real world dataset\n",
    "  Input:\n",
    "    data : [n_data x shape]\n",
    "    labels : [n_data (x 1)] from 0 to n_labels(10)\n",
    "    n_clients : number of clients\n",
    "    verbose : True/False => True for printing some info, False otherwise\n",
    "  Output:\n",
    "    clients_split : splitted client data into desired format\n",
    "  '''\n",
    "  def break_into(n,m):\n",
    "    ''' \n",
    "    return m random integers with sum equal to n \n",
    "    '''\n",
    "    to_ret = [1 for i in range(m)]\n",
    "    for i in range(n-m):\n",
    "        ind = random.randint(0,m-1)\n",
    "        to_ret[ind] += 1\n",
    "    return to_ret\n",
    "\n",
    "  #### constants ####\n",
    "  n_classes = len(set(labels))\n",
    "  classes = list(range(n_classes))\n",
    "  np.random.shuffle(classes)\n",
    "  label_indcs  = [list(np.where(labels==class_)[0]) for class_ in classes]\n",
    "  \n",
    "  #### classes for each client ####\n",
    "  tmp = [np.random.randint(1,10) for i in range(n_clients)]\n",
    "  total_partition = sum(tmp)\n",
    "\n",
    "  #### create partition among classes to fulfill criteria for clients ####\n",
    "  class_partition = break_into(total_partition, len(classes))\n",
    "\n",
    "  #### applying greedy approach first come and first serve ####\n",
    "  class_partition = sorted(class_partition,reverse=True)\n",
    "  class_partition_split = {}\n",
    "\n",
    "  #### based on class partition, partitioning the label indexes ###\n",
    "  for ind, class_ in enumerate(classes):\n",
    "      class_partition_split[class_] = [list(i) for i in np.array_split(label_indcs[ind],class_partition[ind])]\n",
    "      \n",
    "#   print([len(class_partition_split[key]) for key in  class_partition_split.keys()])\n",
    "\n",
    "  clients_split = []\n",
    "  count = 0\n",
    "  for i in range(n_clients):\n",
    "    n = tmp[i]\n",
    "    j = 0\n",
    "    indcs = []\n",
    "\n",
    "    while n>0:\n",
    "        class_ = classes[j]\n",
    "        if len(class_partition_split[class_])>0:\n",
    "            indcs.extend(class_partition_split[class_][-1])\n",
    "            count+=len(class_partition_split[class_][-1])\n",
    "            class_partition_split[class_].pop()\n",
    "            n-=1\n",
    "        j+=1\n",
    "\n",
    "    ##### sorting classes based on the number of examples it has #####\n",
    "    classes = sorted(classes,key=lambda x:len(class_partition_split[x]),reverse=True)\n",
    "    if n>0:\n",
    "        raise ValueError(\" Unable to fulfill the criteria \")\n",
    "    clients_split.append([data[indcs], labels[indcs]])\n",
    "#   print(class_partition_split)\n",
    "#   print(\"total example \",count)\n",
    "\n",
    "\n",
    "  def print_split(clients_split): \n",
    "    print(\"Data split:\")\n",
    "    for i, client in enumerate(clients_split):\n",
    "      split = np.sum(client[1].reshape(1,-1)==np.arange(n_labels).reshape(-1,1), axis=1)\n",
    "      print(\" - Client {}: {}\".format(i,split))\n",
    "    print()\n",
    "      \n",
    "    if verbose:\n",
    "      print_split(clients_split)\n",
    "  \n",
    "  clients_split = np.array(clients_split)\n",
    "  \n",
    "  return clients_split"
   ]
  },
  {
   "attachments": {},
   "cell_type": "markdown",
   "metadata": {},
   "source": [
    "### Data Processing"
   ]
  },
  {
   "cell_type": "code",
   "execution_count": 8,
   "metadata": {},
   "outputs": [],
   "source": [
    "from PIL import Image\n",
    "import numpy as np\n",
    "import torchvision.transforms.functional as T\n",
    "\n",
    "def load_image(infilename, resize=32) :\n",
    "    img = T.resize(Image.open(infilename), size=resize)\n",
    "    img.load()\n",
    "    data = np.asarray(img, dtype=\"uint8\")\n",
    "    return np.transpose(data)"
   ]
  },
  {
   "cell_type": "code",
   "execution_count": 9,
   "metadata": {},
   "outputs": [],
   "source": [
    "import glob, random\n",
    "images = glob.glob(\"./noisy_data/small_scale/dead_leaves-mixed/train/0000000000/*.jpg\")"
   ]
  },
  {
   "cell_type": "code",
   "execution_count": 10,
   "metadata": {},
   "outputs": [],
   "source": [
    "natural_images = np.asarray(list(map(load_image, images)))"
   ]
  },
  {
   "cell_type": "code",
   "execution_count": 45,
   "metadata": {},
   "outputs": [
    {
     "data": {
      "text/plain": [
       "(3, 32, 32)"
      ]
     },
     "execution_count": 45,
     "metadata": {},
     "output_type": "execute_result"
    }
   ],
   "source": [
    "natural_images[0].shape"
   ]
  },
  {
   "cell_type": "code",
   "execution_count": 84,
   "metadata": {},
   "outputs": [],
   "source": [
    "def AddNoise(tensor, mean, std, gaussian_application, natural_image_application):\n",
    "    choice = np.random.rand()\n",
    "    if choice < gaussian_application:\n",
    "        tensor = torch.from_numpy(tensor)\n",
    "        return ((tensor + torch.randn(tensor.size()) * std + mean).numpy()).astype(np.uint8)\n",
    "    elif choice < (gaussian_application + natural_image_application):\n",
    "        return natural_images[np.random.randint(1000)]\n",
    "    else:\n",
    "        return tensor"
   ]
  },
  {
   "cell_type": "code",
   "execution_count": 172,
   "metadata": {},
   "outputs": [],
   "source": [
    "\n",
    "def split_image_data(data, labels, n_clients=100, classes_per_client=10, shuffle=True, verbose=True):\n",
    "  '''\n",
    "  Splits (data, labels) among 'n_clients s.t. every client can holds 'classes_per_client' number of classes\n",
    "  Input:\n",
    "    data : [n_data x shape]\n",
    "    labels : [n_data (x 1)] from 0 to n_labels\n",
    "    n_clients : number of clients\n",
    "    classes_per_client : number of classes per client\n",
    "    shuffle : True/False => True for shuffling the dataset, False otherwise\n",
    "    verbose : True/False => True for printing some info, False otherwise\n",
    "  Output:\n",
    "    clients_split : client data into desired format\n",
    "  '''\n",
    "  #### constants #### \n",
    "  n_data = data.shape[0]\n",
    "  n_labels = np.max(labels) + 1\n",
    "  # gauss = lambda x, y, z : x + torch.randn(x.size()) * z + y\n",
    "  noise_data = AddNoise(data, 0., 50., .1, .7)\n",
    "\n",
    "\n",
    "  ### client distribution ####\n",
    "  data_per_client = clients_rand(len(data), n_clients)\n",
    "  data_per_client_per_class = [np.maximum(1,nd // classes_per_client) for nd in data_per_client]\n",
    "  \n",
    "  # sort for labels\n",
    "  data_idcs = [[] for i in range(n_labels)]\n",
    "  for j, label in enumerate(labels):\n",
    "    data_idcs[label] += [j]\n",
    "  if shuffle:\n",
    "    for idcs in data_idcs:\n",
    "      np.random.shuffle(idcs)\n",
    "\n",
    "  noise_idcs = data_idcs\n",
    "    \n",
    "  # split data among clients\n",
    "  clients_split = []\n",
    "  c = 0\n",
    "  for i in range(n_clients):\n",
    "    client_idcs = []\n",
    "    share_idcs = []\n",
    "        \n",
    "    budget = data_per_client[i]\n",
    "    c = np.random.randint(n_labels)\n",
    "    while budget > 0:\n",
    "      take = min(data_per_client_per_class[i], len(data_idcs[c]), budget)\n",
    "      \n",
    "      client_idcs += data_idcs[c][:take]\n",
    "      data_idcs[c] = data_idcs[c][take:]\n",
    "      \n",
    "      budget -= take\n",
    "      c = (c + 1) % n_labels\n",
    "\n",
    "    # add noise examples\n",
    "    for i in range((n_labels - classes_per_client)):\n",
    "      take = min(data_per_client_per_class[i], len(noise_idcs[c]))\n",
    "      share_idcs += noise_idcs[c][:take]\n",
    "      c = (c + 1) % n_labels\n",
    "    print(f\"Noise: {share_idcs}\")\n",
    "    clients_split += [(np.concatenate((data[client_idcs], noise_data[share_idcs])), labels[(client_idcs + share_idcs)])]\n",
    "\n",
    "  def print_split(clients_split): \n",
    "    print(\"Data split:\")\n",
    "    for i, client in enumerate(clients_split):\n",
    "      split = np.sum(client[1].reshape(1,-1)==np.arange(n_labels).reshape(-1,1), axis=1)\n",
    "      print(\" - Client {}: {}\".format(i,split))\n",
    "    print()\n",
    "      \n",
    "    if verbose:\n",
    "      print_split(clients_split)\n",
    "  \n",
    "  clients_split = np.array(clients_split)\n",
    "  \n",
    "  return clients_split"
   ]
  },
  {
   "cell_type": "code",
   "execution_count": 161,
   "metadata": {},
   "outputs": [],
   "source": [
    "\n",
    "def shuffle_list(data):\n",
    "  '''\n",
    "  This function returns the shuffled data\n",
    "  '''\n",
    "  for i in range(len(data)):\n",
    "    tmp_len= len(data[i][0])\n",
    "    index = [i for i in range(tmp_len)]\n",
    "    random.shuffle(index)\n",
    "    data[i][0],data[i][1] = shuffle_list_data(data[i][0],data[i][1])\n",
    "  return data\n",
    "\n",
    "\n",
    "def shuffle_list_data(x, y):\n",
    "  '''\n",
    "  This function is a helper function, shuffles an\n",
    "  array while maintaining the mapping between x and y\n",
    "  '''\n",
    "  inds = list(range(len(x)))\n",
    "  random.shuffle(inds)"
   ]
  },
  {
   "cell_type": "code",
   "execution_count": 162,
   "metadata": {},
   "outputs": [],
   "source": [
    "\n",
    "class CustomImageDataset(Dataset):\n",
    "  '''\n",
    "  A custom Dataset class for images\n",
    "  inputs : numpy array [n_data x shape]\n",
    "  labels : numpy array [n_data (x 1)]\n",
    "  '''\n",
    "  def __init__(self, inputs, labels, transforms=None):\n",
    "      assert inputs.shape[0] == labels.shape[0]\n",
    "      self.inputs = torch.Tensor(inputs)\n",
    "      self.labels = torch.Tensor(labels).long()\n",
    "      self.transforms = transforms \n",
    "\n",
    "  def __getitem__(self, index):\n",
    "      img, label = self.inputs[index], self.labels[index]\n",
    "\n",
    "      if self.transforms is not None:\n",
    "        img = self.transforms(img)\n",
    "\n",
    "      return (img, label)\n",
    "\n",
    "  def __len__(self):\n",
    "      return self.inputs.shape[0]\n",
    "          \n",
    "\n",
    "def get_default_data_transforms(train=True, verbose=True):\n",
    "  transforms_train = {\n",
    "  'cifar10' : transforms.Compose([\n",
    "    transforms.ToPILImage(),\n",
    "    transforms.RandomCrop(32, padding=4),\n",
    "    transforms.RandomHorizontalFlip(),\n",
    "    transforms.ToTensor(),\n",
    "    transforms.Normalize((0.4914, 0.4822, 0.4465), (0.2023, 0.1994, 0.2010))]),#(0.24703223, 0.24348513, 0.26158784)\n",
    "  }\n",
    "  transforms_eval = {    \n",
    "  'cifar10' : transforms.Compose([\n",
    "    transforms.ToPILImage(),\n",
    "    transforms.ToTensor(),\n",
    "    transforms.Normalize((0.4914, 0.4822, 0.4465), (0.2023, 0.1994, 0.2010))])\n",
    "  }\n",
    "  if verbose:\n",
    "    print(\"\\nData preprocessing: \")\n",
    "    for transformation in transforms_train['cifar10'].transforms:\n",
    "      print(' -', transformation)\n",
    "    print()\n",
    "\n",
    "  return (transforms_train['cifar10'], transforms_eval['cifar10'])"
   ]
  },
  {
   "cell_type": "code",
   "execution_count": 163,
   "metadata": {},
   "outputs": [],
   "source": [
    "\n",
    "def get_data_loaders(nclients,batch_size,classes_pc=10, real_wd =False ,verbose=True ):\n",
    "  \n",
    "  x_train, y_train, x_test, y_test = get_cifar10()\n",
    "\n",
    "  if verbose:\n",
    "    print_image_data_stats(x_train, y_train, x_test, y_test)\n",
    "\n",
    "  transforms_train, transforms_eval = get_default_data_transforms(verbose=False)\n",
    "  \n",
    "  if real_wd:\n",
    "    split = split_image_data_realwd(x_train, y_train, n_clients=nclients, verbose = verbose)\n",
    "  else:  \n",
    "    split = split_image_data(x_train, y_train, n_clients=nclients, classes_per_client=classes_pc, verbose=verbose)\n",
    "  \n",
    "  split_tmp = split #shuffle_list(split)\n",
    "  \n",
    "  client_loaders = [torch.utils.data.DataLoader(CustomImageDataset(x, y, transforms_train), batch_size=batch_size, shuffle=True) for x, y in split_tmp]\n",
    "\n",
    "  test_loader  = torch.utils.data.DataLoader(CustomImageDataset(x_test, y_test, transforms_eval), batch_size=100, shuffle=False) \n",
    "\n",
    "  return client_loaders, test_loader"
   ]
  },
  {
   "cell_type": "code",
   "execution_count": 164,
   "metadata": {},
   "outputs": [
    {
     "name": "stdout",
     "output_type": "stream",
     "text": [
      "Files already downloaded and verified\n",
      "Files already downloaded and verified\n"
     ]
    },
    {
     "data": {
      "text/plain": [
       "numpy.ndarray"
      ]
     },
     "execution_count": 164,
     "metadata": {},
     "output_type": "execute_result"
    }
   ],
   "source": [
    "x_train, y_train, x_test, y_test = get_cifar10()\n",
    "type(x_train)"
   ]
  },
  {
   "cell_type": "code",
   "execution_count": 165,
   "metadata": {},
   "outputs": [],
   "source": [
    "#(GaussianNoise(x_train, 0., 50., 1).astype(np.uint8) == x_train).all()"
   ]
  },
  {
   "cell_type": "code",
   "execution_count": 176,
   "metadata": {},
   "outputs": [],
   "source": [
    "arr = AddNoise(x_train, 0., 3., 1, 0)"
   ]
  },
  {
   "cell_type": "code",
   "execution_count": 177,
   "metadata": {},
   "outputs": [],
   "source": [
    "from PIL import Image as im\n",
    "arr = np.ascontiguousarray(arr[0].transpose(1,2,0))\n",
    "data = im.fromarray(arr, 'RGB')\n",
    "data.save('gaussian3.png')"
   ]
  },
  {
   "cell_type": "code",
   "execution_count": 168,
   "metadata": {},
   "outputs": [],
   "source": [
    "# x_train.shape"
   ]
  },
  {
   "cell_type": "code",
   "execution_count": 169,
   "metadata": {},
   "outputs": [],
   "source": [
    "# GaussianNoise(x_train, 0., 3.).astype(np.uint8)"
   ]
  },
  {
   "cell_type": "code",
   "execution_count": 170,
   "metadata": {},
   "outputs": [],
   "source": [
    "\n",
    "# #############################################################\n",
    "# ##### Creating desired data distribution among clients  #####\n",
    "# #############################################################\n",
    "\n",
    "# # Image augmentation \n",
    "# transform_train = transforms.Compose([\n",
    "#     transforms.RandomCrop(32, padding=4),\n",
    "#     transforms.RandomHorizontalFlip(),\n",
    "#     transforms.ToTensor(),\n",
    "#     transforms.Normalize((0.4914, 0.4822, 0.4465), (0.2023, 0.1994, 0.2010)),\n",
    "#     transforms.RandomApply([AddGaussianNoise(0., 3.)], p=.8)\n",
    "# ])\n",
    "\n",
    "# # Loading CIFAR10 using torchvision.datasets\n",
    "# traindata = datasets.CIFAR10('./data', train=True, download=True,\n",
    "#                        transform= transform_train)\n",
    "# train_fake_data = datasets.CIFAR10('./data', train=True, download=True\n",
    "#                     )\n",
    "\n",
    "# # Dividing the training data into num_clients, with each client having equal number of images\n",
    "# traindata_split = torch.utils.data.random_split(traindata, np.random.dirichlet(np.ones(num_clients), size=1)[0])\n",
    "\n",
    "# # Creating a pytorch loader for a Deep Learning model\n",
    "# train_loader = [torch.utils.data.DataLoader(x, batch_size=batch_size, shuffle=True) for x in traindata_split]\n",
    "\n",
    "# # Normalizing the test images\n",
    "# transform_test = transforms.Compose([\n",
    "#     transforms.ToTensor(),\n",
    "#     transforms.Normalize((0.4914, 0.4822, 0.4465), (0.2023, 0.1994, 0.2010)),\n",
    "# ])\n",
    "\n",
    "# # Loading the test iamges and thus converting them into a test_loader\n",
    "# test_loader = torch.utils.data.DataLoader(\n",
    "#         datasets.CIFAR10('./data', train=False, transform=transforms.Compose([transforms.ToTensor(),transforms.Normalize((0.4914, 0.4822, 0.4465), (0.2023, 0.1994, 0.2010))])\n",
    "#         ), batch_size=batch_size, shuffle=True)"
   ]
  },
  {
   "cell_type": "code",
   "execution_count": 173,
   "metadata": {},
   "outputs": [
    {
     "name": "stdout",
     "output_type": "stream",
     "text": [
      "Files already downloaded and verified\n",
      "Files already downloaded and verified\n",
      "\n",
      "Data: \n",
      " - Train Set: ((50000, 3, 32, 32),(50000,)), Range: [0.000, 255.000], Labels: 0,..,9\n",
      " - Test Set: ((10000, 3, 32, 32),(10000,)), Range: [0.000, 255.000], Labels: 0,..,9\n",
      "Noise: [46078, 25208, 37847, 15557, 22054, 23263, 1494, 35651, 39638, 13973, 44954, 39256, 9267, 815, 23900, 7390, 27228, 32601, 1455, 35966, 9411, 37428, 35086, 28005, 16017, 46406, 29429, 17964, 38650, 24963, 35878, 44754, 37755, 11716, 8095, 22675, 1559, 3064, 1448, 26310, 1380, 25596, 42464, 257, 2765, 19341, 8305, 19546, 49973, 18859, 6495, 37257, 10352, 8757, 33392, 10458, 26737, 35357, 7261, 45569, 28784, 33545, 11264, 23463, 18415, 30673, 40822, 29019, 1320, 15295, 44220, 18649, 3871, 17621, 16673, 7475, 37269, 25685, 27636, 49392, 15386, 37801, 19526, 4797, 28941, 49585, 7579, 486, 33734, 14165, 19866, 37995, 12856, 29409, 40762, 47761, 16006, 1689, 26746, 3935, 23192, 45977, 24381, 26257, 3661, 9578, 11750, 46003, 40505, 17772, 33305, 11971, 47237, 14851, 22055, 16437, 44138, 12628, 41026, 25105, 15770, 22292, 27272, 48631, 12232, 38950, 11585, 5791, 30314, 41075, 32210, 23477, 20843, 3773, 27330, 16629, 49411, 28192, 28623, 21585, 46026, 8221, 27576, 23439, 19166, 8855, 28643, 21309, 22983, 13849, 48901, 29875, 36593, 31329, 46147, 6814, 5568, 873, 19880, 48000, 40034, 3851, 46717, 22335, 7297, 18097, 1029, 4261, 29952, 35344, 39892, 15776, 43068, 22419, 38946, 41296, 9054, 24470, 14007, 36058, 39524, 21429, 26331, 47208, 37512, 44499, 9549, 10644, 24038, 39828, 13544, 47532, 48182, 46127, 42709, 13505, 13088, 48655, 37916, 48293, 45014, 5959, 36703, 1068, 19481, 4803, 5827, 21151, 24280, 31552, 23407, 42669, 10249, 48584, 16189, 25926, 15496, 24807, 38031, 24255, 37650, 17924, 10420, 22217, 39437, 26180, 28780, 36751, 1095, 24986, 41896, 40453, 19448, 26578, 35567, 28347, 24512, 16250, 48667, 43908, 35847, 47939, 41733, 17802, 49136, 35688, 38929, 14035, 48003, 9809, 25044, 37455, 43064, 17860, 35979, 7600, 6020, 28906, 36537, 1421, 8244, 11497, 17135, 32486, 8001, 25961, 49121, 28804, 22399, 33181, 48224, 9012, 19450, 42007, 3937, 23850, 47060, 15281, 5714, 2656, 45228, 34720, 49590, 29066, 42143, 11109, 17106, 35465, 14659, 15655, 13997, 28089, 44109, 7774, 20057, 21971, 21080, 15461, 37092, 30049, 35339, 35048, 25975, 6668, 40178, 30840, 7832, 40076, 41133, 47772, 47989, 8977, 41392, 13323, 7288, 41138, 39566, 49594, 32135, 30768, 39771, 13262, 45212, 12280, 28420, 32994, 47256, 16066, 4352, 2753, 34066, 20513, 43555, 43728, 41859, 2862, 8486, 41579, 184, 36611, 26915, 49588, 35371, 30086, 27905, 12841, 39940, 5311, 32913, 49593, 30545, 41404, 3414, 2072, 23548, 32087, 590, 6673, 27625, 22227, 42707, 5663, 29555, 2661, 27769, 15456, 35033, 16981, 38590, 21888, 10630, 9442, 13968, 38610, 45003, 11954, 28268, 28248, 16800, 39373, 24762, 12620, 44425, 9007, 22824, 13218, 3366, 16953, 48675, 7324, 28938, 10359, 2588, 49269, 18908, 35068, 32, 43618, 4631, 38192, 46463, 26740, 160, 26526, 31583, 25731, 31634, 45642, 39195, 32749, 15308, 20199, 2928, 4047, 18716, 44992, 31395, 1502, 7349, 13158, 16077, 36153, 4171, 37468, 20047, 19539, 32121, 49084, 19594, 16365, 9138, 30782, 18480, 12027, 47364, 47566, 4739, 43786, 16338, 18123, 46827, 28910, 39549, 38974, 21196, 12622, 22900, 44466, 9070, 25069, 10714, 4983, 6703, 6233, 24121, 34723, 43687, 22212, 10755, 5236, 7005, 7735, 5841, 17209, 30676, 36791, 46213, 32438, 22689, 29911, 45483, 13615, 18526, 20835, 14519, 31251, 9524, 10022, 27089, 23832, 41455, 2828, 36844, 38420, 39769, 46427, 48610, 27268, 28798, 45979, 7529, 48358, 18160, 2039, 17032, 42287, 15273, 42726, 41979, 17734, 2286, 5392, 32787, 16158, 10910, 14311, 36102, 3620, 5709, 21422, 37412, 28183, 17609, 49137, 48294, 27871, 45685, 22041, 43518, 25209, 36237, 6122, 24591, 6831, 39118, 27716, 498, 24828, 43317, 33808, 16063, 7177, 27143, 37937, 31193, 2883, 14598, 7124, 44235, 21662, 30039, 34890, 49489, 6786, 20616, 45, 24024, 8856, 6769, 16855, 12047, 30418, 29536, 47968, 40936, 36509, 21088, 41291, 48791, 23711, 35705, 19773, 14662, 31351, 30119, 15100, 24137, 42085, 16233, 4363, 14378, 11920, 49232, 26877, 11698, 9744, 753, 35011, 46731, 19499, 42239, 44308, 35692, 47035, 43205, 22422, 5102, 24975, 12283, 32886, 22552, 12977, 37301, 45187, 49676, 21020, 49526, 37030, 2771, 17031, 10236, 2568, 49589, 41010, 42715, 35644, 301, 841, 47213, 5685, 10325, 7357, 29953, 4664, 26637, 27545, 17718, 20857, 34940, 39322, 9658, 16549, 17409, 35355, 5196, 22298, 24520, 10039, 30182, 25534, 24043, 32011, 33292, 46328, 29932, 17771, 44225, 34233, 7358, 5947, 15633, 13766, 23015, 48275, 15486, 30344, 43061, 40311, 16128, 29494, 44991, 1681, 6661, 39476, 37136, 9478, 4625, 3467, 41948, 15988, 11301, 3743, 4533, 18413, 44412, 28352, 20042, 21238, 1006, 36005, 30814, 13697, 168, 34429, 35861, 13774, 14209, 8427, 21153, 39735, 5257, 48185, 5344, 37235, 11787, 25910, 40449, 29791, 43235, 47001, 16019, 24665, 2958, 833, 9407, 40250, 39737, 14006, 22500, 7977, 9459, 30457, 35356, 48122, 17014, 38452, 46893, 39674, 28417, 17867, 44529, 13768, 41966, 10370, 31890, 21245, 32071, 44230, 33103, 23911, 43190, 17380, 2854, 26593, 2163, 34620, 23147, 11630, 6445, 6392, 41767, 779, 8395, 24409, 2224, 1492, 25530, 46451, 26271, 6857, 2044, 36367, 2062, 31704, 8017, 9585, 44241, 34293, 14672, 16290, 32916, 49224, 23264, 23930, 48290, 38291, 49069, 25743, 35216, 11415, 36009, 45647, 45360, 37972, 22726, 6408, 16900, 8366, 4008, 34071, 2791, 4431, 21819, 1606, 42269, 24911, 25172, 9446, 2869, 32951, 15813, 6106, 38535, 10591, 15731, 22250, 49106, 48745, 36339, 27816, 34609, 14500, 35575, 36801, 40534, 37268, 13794, 35947, 48384, 33042, 474, 1884, 9144, 20859, 46673, 33793, 3626, 13675, 42155, 30746, 7878, 4257, 47910, 15981, 20051, 39687, 17481, 30628, 37855, 43261, 9162, 8843, 42227, 9350, 37684, 38434, 39794, 9763, 15697, 5386, 5123, 42158, 18239, 39998, 40282, 17817, 22563, 44584, 14206, 21210, 19950, 15214, 43593, 23775, 4703, 14459, 32687, 30765, 31705, 4656, 19981, 47252, 17850, 49700, 32437, 19435, 23905, 34735, 33134, 16319, 43961, 32409, 34611, 31371, 10671, 38563, 11436, 13278, 21131, 36402, 8065, 27549, 18952, 14317, 1108, 28301, 38407, 39683, 26175, 48531, 33276, 31809, 13243, 33175, 13770, 37545, 24670, 33602, 11335, 11713, 3639, 23918, 802, 12506, 33518, 39983, 32791, 35146, 22874, 15658, 14601, 41721, 40176, 13438, 37754, 43692, 37343, 40661, 25203, 40841, 24798, 13341, 37645, 5252, 36382, 22397, 47548, 17651, 7897, 45120, 25440, 35834, 3254, 1523, 30974, 30505, 13321, 32678, 33170, 16761, 18275, 44765, 39786, 34654, 34398, 17851, 45200, 4220, 9986, 21859, 17117, 12501, 42746, 28646, 2467, 14088, 9101, 12656, 17745, 21403, 25884, 41231, 47009, 34971, 11380, 37247, 2387, 48779, 15700, 43898, 37353, 6265, 20125, 26651, 14688, 14646, 28112, 45709, 32741, 31687, 14658, 40221, 41104, 15285, 20660, 16372, 43904, 35063, 47200, 3610, 47260, 48951, 32477, 27684, 32166, 45847, 8280, 24993, 18948, 11518, 4755, 23416, 22074, 10436, 19845, 3118, 13340, 43450, 49020, 40428, 26873, 4376, 910, 38049, 19220, 18901, 45218, 26213, 30878, 46575, 41145, 37243, 38991, 11882, 35488, 411, 18872, 17767, 36726, 790, 40217, 21922, 33580, 3848, 37511, 13831, 43263, 41661, 5012, 6467, 3297, 11040, 41827, 29855, 42492, 33346, 26436, 48243, 3910, 5430, 8088, 36027, 42736, 30866, 27641, 7220, 31908, 12904, 730, 10066, 45933, 34014, 2452, 9183, 32054, 44451, 5507, 31934, 34155, 33841, 1892, 28488, 7501, 27619, 7680, 1048, 34146, 31178, 3351, 41597, 40196, 27876, 13533, 17053, 2594, 16308, 37350, 25673, 29848, 6108, 14032, 29001, 20425, 46529, 41412, 49500, 6205, 7493, 37861, 29865, 27761, 36113, 14962, 16130, 45947, 31022, 8266, 9128, 37135, 2375, 40907, 24565, 3220, 49054, 14419, 8988, 49140, 13259, 36077, 27297, 25688, 24611, 39822, 23772, 40511, 8808, 28050, 30479, 46070, 30055, 41989, 27235, 857, 29997, 43845, 7439, 31978, 41108, 10942, 45471, 34317, 1573, 4110, 33833, 2865, 19140, 38781, 18389, 12289, 34997, 14269, 33721, 32046, 2025, 19871, 19117, 29569, 30424, 46493, 18862, 9005, 18412, 10949, 44399, 17003, 15836, 1076, 5539, 5017, 27485, 42012, 2042, 14703, 27418, 14253, 28824, 38, 17864, 36609, 14340, 11894, 42198, 49463, 15175, 16271, 45909, 16851, 42920, 40155, 30880, 10857, 12366, 45783, 20163, 29685, 21991, 34160, 38472, 21826, 7307, 28587, 47775, 31261, 10749, 21287, 21239, 29662, 45128, 16635, 10126, 37414, 17144, 44621, 44745, 37657, 48426, 9182, 229, 33393, 39150, 6758, 24276, 41639, 29084, 16502, 16360, 22460, 6883, 30490, 49325, 36063, 45211, 15311, 5799, 25492, 34379, 49443, 33880, 6716, 43428, 24154, 19375, 20626, 3026, 45896, 5720, 16754, 36676, 8105, 28787, 21544, 9670, 42206, 7006, 14986, 3105, 10383, 37904, 45901, 42023, 49240, 12798, 6162, 48592, 33371, 25771, 5260, 47721, 30476, 14794, 26876, 18449, 23935, 26849, 20524, 45191, 19847, 40863, 12425, 4308, 11639, 46262, 15877, 1655, 23389, 1252, 16869, 17446, 5493, 19752, 31797, 9710, 21193, 37217, 48506, 19781, 49545, 14466, 48849, 49614, 44943, 43742, 23256, 37983, 3475, 9100, 7651, 13986, 41918, 15217, 20625, 6306, 7719, 18442, 22832, 32672, 37005, 9930, 14118, 10611, 24092, 8710, 3617, 4628, 44957, 43295, 1834, 38634, 46160, 35299, 38317, 43490, 11763, 25490, 27021, 10854, 45330, 31383, 40399, 13061, 1098, 39885, 13062, 36043, 39423, 29451, 36080, 40227, 16547, 15228, 22110, 37554, 24189, 21299, 47897, 26688, 40775, 38945, 34055, 46932, 21326, 7517, 4994, 43084, 32389, 23942, 36219, 26408, 24871, 5914, 19853, 35144, 43704, 42187, 39506, 367, 49009, 29834, 28609, 46341, 30784, 47138, 28808, 3248, 16209, 6014, 25561, 39871, 44232, 10814, 11131, 29780, 36066, 1962, 38126, 22231, 17337, 22294, 33113, 3242, 19920, 9304, 21703, 7318, 3391, 7213, 15224, 9968, 2414, 35899, 35697, 24560, 26485, 31633, 40737, 26559, 36973, 20252, 1555, 8067, 34978, 31974, 48376, 33337, 785, 9479, 7432, 46371, 14232, 7121, 34345, 45514, 23980, 48834, 43735, 9995, 19837, 6256, 45379, 10304, 35009, 12255, 8356, 12872, 45012, 46286, 37176, 15778, 49131, 33940, 792, 22611, 34170, 28772, 23326, 7665, 33236, 22577, 3177, 36894, 35794, 1888, 6902, 39897, 10468, 1127, 15555, 20721, 30933, 36000, 9051, 29793, 12155, 6855, 46805, 45732, 684, 31463, 31584, 15799, 384, 32172, 16335, 47840, 9694, 31626, 12436, 19913, 25559, 24262, 11969, 33329, 39152, 35525, 27608, 15421, 7205, 25324, 45251, 16722, 6198, 15706, 4336, 38932, 11268, 4146, 20770, 35032, 16273, 40249, 37297, 47654, 845, 46232, 7551, 4542, 35427, 41497, 2521, 2353, 18896, 33915, 40054, 27263, 48846, 38275, 42474, 37110, 48368, 46555, 30192, 5190, 17369, 49117, 45816, 2181, 20390, 8434, 13971, 21769, 16536, 37417, 34016, 39428, 34682, 24667, 44926, 17098, 13287, 38449, 47554, 15493, 7313, 2876, 8101, 21549, 44663, 33033, 44636, 4876, 40869, 13725, 23417, 34136, 1528, 41815, 8285, 48402, 17322, 39108, 17821, 49832, 1150, 21948, 7259, 49322, 36244, 36643, 43841, 14161, 23314, 31295, 29460, 5277, 2279, 37753, 36979, 1546, 16070, 6684, 14936, 27698, 38652, 32312, 43040, 16904, 27662, 36738, 42508, 32843, 28608, 38887, 20892, 29260, 42914, 23353, 13093, 10565, 13001, 3772, 46424, 23974, 45351, 25535, 46571, 47586, 42445, 48062, 776, 19681, 20033, 23465, 7924, 4530, 22505, 41486, 1316, 48507, 26132, 29684, 49178, 23228, 24022, 31610, 801, 46226, 1499, 7814, 27012, 2168, 15854, 43922, 9613, 11534, 14373, 35704, 29484, 16628, 40624, 2665, 31204, 32304, 37080, 26126, 12821, 16528, 16119, 49600, 1345, 33601, 34858, 41057, 35832, 5218, 45389, 21373, 41872, 203, 19727, 39033, 10492, 49478, 22660, 18954, 24337, 10999, 1841, 19455, 49157, 3615, 10441, 35769, 3081, 16296, 49970, 20121, 34099, 33612, 8224, 22239, 20820, 9283, 22593, 28984, 42252, 20401, 10784, 7667, 40546, 7253, 14527, 40226, 20868, 37133, 26900, 44673, 9612, 1554, 35923, 6511, 15372, 39903, 27779, 11498, 42783, 11668, 48599, 46110, 32085, 23409, 8598, 39777, 46002, 27351, 48285, 21744, 23120, 9338, 25194, 12786, 43440, 47970, 48762, 13205, 10534, 14321, 18362, 35790, 28419, 15794, 49368, 6458, 4010, 39071, 21551, 48629, 13443, 150, 9393, 12971, 197, 37785, 40362, 17067, 5859, 37057, 25359, 45646, 11183, 27317, 3218, 36440, 38429, 20639, 9738, 21818, 19613, 2505, 24348, 25640, 38338, 38068, 35582, 18771, 48112, 25520, 3843, 10575, 33914, 18373, 17831, 23862, 20488, 3134, 27556, 23622, 38557, 13329, 35549, 38040, 20932, 38903, 39554, 49773, 14920, 36852, 45948, 16871, 3286, 41951, 13082, 28029, 14491, 11055, 14089, 9792, 40891, 8760, 45380, 42028, 23859, 45151, 40307, 45209, 27136, 27904, 35229, 30687, 25074, 14568, 21517, 6849, 9020, 14706, 36211, 11337, 17300, 21501, 28361, 27064, 20338, 1963, 46023, 19799, 42008, 2011, 12815, 26189, 30266, 9600, 10960, 7869, 48144, 26689, 48039, 47901, 25773, 26544, 34703, 25504, 25443, 32583, 36226, 21400, 30339, 10506, 17897, 30668, 44677, 37445, 34172, 1281, 19068, 4669, 43257, 20215, 11294, 48814, 30573, 7412, 6590, 41349, 49692, 31560, 8164, 14115, 45217, 6742, 18506, 5455, 6635, 12612, 25953, 47098, 43110, 45641, 34236, 7734, 46568, 21783, 11544, 33169, 42233, 6868, 10618, 41168, 2425, 26253, 6783, 20760, 27605, 29936, 44383, 13811, 35919, 22171, 39482, 5520, 23094, 17541, 27993, 9129, 46325, 43832, 29038, 26372, 19518, 44562, 25649, 37311, 33210, 35040, 5129, 32844, 47490, 12475, 24618, 35323, 49366, 9300, 41053, 11025, 11052, 18348, 22664, 35541, 41351, 40433, 20963, 59, 25782, 25471, 15181, 41992, 7200, 639, 27274, 40764, 7909, 27250, 8370, 32108, 44144, 49825, 27203, 1710, 36216, 31141, 6330, 36567, 48585, 22125, 47838, 29139, 12007, 10948, 3650, 33717, 15640, 26939, 48134, 14171, 35772, 17557, 17401, 10322, 6905, 44657, 20583, 34116, 28983, 3365, 33177, 28835, 46923, 42930, 22923, 28592, 44896, 16805, 34465, 36930, 35976, 43352, 25627, 30060, 43052, 22861, 23992, 7671, 3003, 15882, 47410, 46605, 15937, 6595, 16154, 10883, 35581, 21909, 37357, 8251, 1057, 5400, 11379, 45250, 7485, 15545, 26455, 18867, 27138, 29810, 26660, 36725, 3870, 10101, 20208, 26283, 20465, 37924, 36212, 41594, 15876, 39166, 44318, 49170, 25922, 39575, 23536, 2518, 45216, 7802, 9332, 37939, 31440, 23048, 3863, 14942, 861, 21415, 2930, 29109, 4475, 14647, 19902, 21832, 14237, 29502, 25958, 17124, 42370, 21835, 27108, 39235, 41493, 27424, 32320, 6332, 21402, 39140, 26558, 40611, 15912, 15454, 17161, 34255, 31033, 48235, 10890, 14907, 38762, 959, 41659, 35484, 2856, 25347, 32645, 8279, 35560, 25289, 28372, 7743, 39244, 4224, 27939, 31775, 31393, 48860, 40560, 5607, 49595, 23013, 2779, 20147, 5581, 18550, 10877, 19043, 47442, 35198, 381, 10055, 23512, 33614, 4429, 43238, 37719, 43031, 39451, 42664, 15526, 34343, 22259, 49946, 49564, 27718, 4413, 27847, 27213, 17123, 24430, 13469, 34331, 26812, 40071, 6654, 47917, 29610, 24513, 13196, 17513, 10224, 14858, 43386, 33359, 31585, 35634, 22990, 20575, 2904, 9592, 25351, 16136, 46769, 21068, 18110, 13021, 39501, 5570, 1303, 2363, 2710, 44446, 6007, 12665, 13416, 25955, 17937, 49605, 42695, 665, 39293, 7383, 17510, 14974, 29098, 49806, 40647, 39656, 27466, 925, 21912, 5074, 23511, 40441, 17131, 23179, 8913, 10640, 19170, 28892, 14235, 8004, 45668, 21794, 46824, 31092, 20157, 49002, 11521, 44586, 2811, 2329, 10904, 45764, 19943, 20321, 12444, 18766, 34562, 9915, 6485, 2238, 16889, 45226, 45981, 20340, 19548, 37901, 11967, 15656, 2122, 47305, 979, 346, 16897, 23421, 29361, 22749, 40674, 22144, 38802, 48937, 27282, 38123, 8049, 25781, 28789, 41953, 13832, 28939, 29163, 33479, 16959, 11542, 12136, 14879, 33296, 12727, 6144, 10865, 36764, 28903, 33302, 31027, 42512, 28596, 29799, 30962, 9349, 4212, 14000, 14656, 31446, 21896, 25429, 41618, 8236, 35675, 19360, 36671, 4801, 48351, 22996, 32094, 5350, 45515, 41648, 26844, 1992, 45689, 24776, 18404, 42983, 39772, 7822, 12208, 5178, 38134, 39495, 5754, 18196, 8396, 37442, 40195, 13451, 25231, 43473, 31860, 15256, 14584, 23071, 10654, 9000, 25498, 43202, 36019, 47408, 42702, 4962, 36488, 45239, 43516, 38964, 15668, 46891, 35467, 33685, 28823, 22005, 47908, 30225, 47441, 46789, 6498, 15963, 1903, 47571, 30282, 38995, 42164, 1022, 21966, 25142, 39565, 1297, 48191, 49421, 20659, 16294, 8860, 41171, 20373, 28191, 15152, 12862, 40794, 3538, 3306, 27391, 1225, 46333, 1264, 7896, 14316, 10404, 42350, 25153, 41669, 24123, 5633, 35954, 33239, 32590, 45775, 4394, 26273, 10222, 10472, 24797, 38794, 5944, 32893, 34328, 4382, 2069, 21173, 25949, 11590, 4973, 27221, 46076, 21052, 16445, 39945, 9259, 37069, 38714, 49402, 14105, 23634, 36536, 48223, 48018, 41931, 14244, 36302, 39676, 31124, 33290, 7828, 33920, 10694, 29254, 33209, 10970, 48862, 37996, 28509, 48008, 1817, 19462, 14921, 42310, 41665, 40167, 47868, 25941, 23474, 43621, 6897, 18042, 10, 39866, 16893, 24806, 8137, 45111, 23329, 44900, 29419, 41237, 9569, 5405, 27390, 40937, 31433, 45603, 15409, 6527, 19452, 263, 13762, 2402, 41699, 30425, 44336, 17777, 35308, 43975, 46650, 14396, 6378, 1941, 24241, 31514, 29128, 16636, 34950, 19458, 447, 44200, 10372, 18507, 7362, 12896, 23255, 13681, 45512, 15519, 14283, 30300, 1814, 21048, 7359, 44032, 19813, 10979, 49984, 21417, 25690, 30970, 35714, 44963, 34574, 33961, 35494, 45804, 42216, 27921, 46093, 9231, 10851, 42419, 11398, 44816, 6056, 15339, 36326, 16200, 11116, 25014, 17845, 130, 15426, 43239, 41766, 32095, 45930, 32731, 6875, 9370, 35324, 25114, 17307, 28013, 37691, 31750, 48211, 16139, 8970, 7963, 4106, 10207, 21460, 42022, 45491, 41688, 15508, 35648, 10500, 2839, 48824, 34406, 22711, 49990, 11794, 40949, 14933, 37171, 19846, 1509, 24524, 5364, 23729, 31609, 4301, 1347, 16263, 25099, 26145, 21364, 27074, 29663, 7670, 1221, 14038, 15170, 45363, 41178, 38316, 6636, 9845, 5259, 17719, 29947, 9102, 21161, 8890, 28830, 37963, 33070, 48091, 14305, 22124, 15377, 22230, 30291, 27860, 34969, 6465, 46506, 19980, 24823, 12285, 17193, 13466, 23968, 28084, 34247, 31053, 9777, 25818, 44994, 18875, 45773, 7636, 13269, 16967, 48738, 20123, 58, 11481, 26353, 22480, 36167, 11033, 40268, 21771, 28796, 35395, 39369, 38033, 20833, 38077, 35997, 25753, 40036, 22969, 39833, 39003, 15254, 6993, 41927, 2196, 4280, 5880, 27518, 39690, 6234, 49758, 46372, 32854, 44519, 37850, 19112, 26351, 8777, 44857, 10350, 28522, 13453, 5844, 8987, 9061, 42104, 25959, 12843, 31666, 38543, 20011, 7295, 3821, 14113, 2705, 18455, 34776, 39127, 17550, 44516, 27534, 22318, 30020, 9395, 32268, 30616, 38640, 40277, 28613, 39541, 27914, 17613, 5726, 45510, 1557, 1630, 16007, 930, 32117, 39626, 47139, 29138, 3925, 15683, 38119, 34670, 17146, 46416, 4262, 28170, 28752, 41246, 17286, 45408, 43276, 41193, 43923, 21949, 20137, 14151, 39942, 43146, 5631, 8829, 7097, 6911, 18014, 36437, 39217, 2976, 24861, 4381, 28146, 35630, 26233, 25332, 27725, 31075, 8254, 1294, 27100, 30079, 5624, 7459, 46526, 34350, 34585, 34144, 3945, 20769, 28151, 31088, 4987, 7059, 21781, 35522, 23327, 32445, 14798, 17801, 29237, 20904, 28174, 30268, 15645, 49506, 20325, 3360, 46452, 6891, 1269, 15196, 16220, 28334, 20815, 41839, 27659, 20966, 24046, 13987, 42285, 28097, 48478, 21176, 25556, 21570, 41216, 47837, 33692, 43553, 38395, 13993, 25813, 10247, 36467, 34169, 14853, 39036, 27935, 27596, 6509, 26475, 43524, 46061, 18818, 14777, 36916, 33499, 33979, 15802, 43032, 3408, 49024, 15203, 41305, 15625, 22825, 1623, 3797, 6421, 11759, 14492, 42035, 19345, 46511, 39740, 25992, 1396, 16264, 296, 14019, 37923, 6110, 11869, 47144, 41500, 42653, 19426, 6985, 12368, 32100, 24485, 3717, 4687, 24790, 2257, 40974, 44002, 41623, 17674, 23276, 1654, 23460, 12213, 30600, 20978, 32459, 23445, 1659, 15624, 490, 24933, 23637, 18606, 11249, 7787, 45002, 26890, 15919, 3522, 12810, 1018, 36937, 14786, 16240, 4781, 34384, 31627, 39169, 46851, 26329, 621, 5829, 45221, 11064, 8247, 20049, 30527, 24582, 25931, 16195, 3116, 1784, 47530, 9506, 6535, 20407, 13498, 10609, 2899, 12478, 26367, 22243, 32799, 31701, 42910, 30243, 22642, 41286, 49518, 20772, 38014, 40530, 20363, 36896, 14111, 3776, 9750, 43296, 1968, 22820, 15666, 2520, 27429, 28696, 2911, 36662, 10765, 30921, 3077, 9816, 40658, 1069, 47374, 9250, 27234, 27106, 11235, 6168, 36008, 31143, 46776, 47487, 15253, 528, 18264, 43509, 49645, 10593, 28795, 19521, 38598, 543, 2078, 6907, 11209, 43640, 34119, 7188, 40171, 13102, 8491, 1256, 39202, 37853, 5229, 46823, 25675, 24108, 22744, 45812, 24659, 8834, 45133, 30942, 38941, 45624, 2056, 21252, 41388, 38983, 30436, 9516, 30799, 19307, 26959, 48087, 49950, 2792, 6339, 39785, 15909, 18197, 41934, 49097, 13536, 41191, 9441, 5514, 38603, 20253, 22098, 40629, 8331, 41100, 46460, 22192, 47622, 4710, 30826, 26100, 22183, 29539, 19848, 40523, 45683, 30528, 23817, 27384, 7855, 27535, 13513, 19784, 41878, 19790, 36867, 14104, 32960, 47510, 41852, 23017, 11550, 31476, 16383, 42938, 35526, 46618, 18418, 40631, 3802, 22185, 30341, 705, 37124, 19264, 40377, 9615, 24925, 17967, 7155, 18043, 43203, 35378, 12124, 18185, 28186, 660, 1238, 43627, 4660, 47155, 33673, 42544, 46220, 3418, 47344, 21229, 268, 38895, 2922, 41337, 3855, 19584, 2926, 38660, 13164, 3913, 29922, 49390, 32757, 20828, 7054, 21950, 19098, 47004, 25383, 15143, 22750, 17498, 21629, 7424, 20343, 10303, 39143, 26706, 4175, 23748, 15537, 25585, 28346, 40116, 43228, 23611, 32496, 37656, 17585, 31305, 36319, 29101, 39878, 27453, 14893, 2105, 30435, 35774, 31153, 22443, 18155, 35415, 19407, 5347, 46331, 5677, 35517, 2304, 38418, 1624, 30869, 3036, 6281, 10736, 2528, 40933, 14905, 38173, 14635, 32608, 41820, 11567, 6344, 30958, 16525, 44705, 27446, 3527, 35566, 36855, 23279, 9105, 45987, 22513, 14560, 49515, 25779, 9695, 1212, 2725, 41649, 34174, 7296, 6437, 33370, 40705, 13427, 4998, 39430, 46251, 29329, 21191, 6452, 19614, 3957, 2999, 3759, 4839, 6314, 982, 16806, 14258, 13636, 20890, 27754, 8263, 32901, 8447, 33197, 18984, 8184, 40289, 10633, 37987, 33501, 11279, 16505, 9528, 4158, 37553, 26772, 28278, 3112, 46773, 26902, 10719, 11582, 46578, 41657, 43448, 46036, 25962, 3539, 16173, 43778, 9685, 18559, 16426, 24737, 3166, 35450, 39470, 33753, 45595, 48413, 17323, 16481, 26946, 46814, 299, 20832, 32270, 47503, 46998, 42570, 28407, 26460, 11860, 35978, 4184, 7933, 40085, 41961, 8911, 32446, 47293, 13905, 37721, 48484, 20798, 3723, 44737, 9888, 5909, 2990, 21323, 40660, 33675, 35877, 40486, 10179, 17338, 11526, 4438, 19262, 22139, 4032, 42725, 41788, 18931, 28464, 45517, 27409, 42138, 7775, 37649, 17211, 40610, 35304, 45139, 44465, 25480, 43983, 33697, 13903, 22284, 42662, 27513, 43337, 4305, 32391, 18207, 38076, 47664, 13005, 3433, 13012, 36533, 25355, 28271, 12858, 10947, 3141, 19803, 24369, 47295, 27193, 41822, 5264, 45820, 46779, 39705, 6681, 2486, 14263, 7880, 1804, 35066, 49947, 48521, 28226, 33369, 46703, 677, 28561, 38092, 27572, 33529, 43231, 7903, 41737, 14664, 41417, 41101, 10592, 27412, 46174, 26417, 32533, 4103, 20276, 42903, 25620, 45110, 3866, 15201, 45723, 19400, 34267, 5029, 1704, 8554, 37469, 37466, 40588, 41582, 38876, 18602, 35611, 14147, 12006, 46382, 32786, 42229, 31061, 24221, 43335, 26653, 24778, 6450, 8792, 9691, 16615, 38821, 1169, 16485, 12160, 18114, 3296, 17500, 22195, 15790, 17877, 31689, 27801, 43897, 28049, 27897, 48637, 28809, 24883, 24829, 35187, 4323, 40259, 14418, 48876, 34840, 44270, 47318, 41518, 38492, 37614, 21066, 40077, 24239, 45199, 16024, 39296, 5345, 36711, 6475, 3393, 47517, 27479, 33664, 2106, 21201, 11785, 33352, 47345, 2654, 23954, 40162, 17727, 20412, 8423, 398, 42030, 17078, 19643, 19543, 47735, 16674, 26047, 32284, 21929, 17839, 47300, 47813, 48367, 15938, 43494, 6289, 19161, 30384, 37886, 24306, 4738, 36336, 27455, 32989, 44656, 434, 28317, 28338, 5237, 30173, 19494, 9749, 49207, 45132, 20785, 25017, 16669, 28729, 22619, 47795, 38351, 12026, 23057, 6990, 1333, 7206, 43732, 18633, 4055, 1813, 38774, 33574, 41283, 43294, 21853, 12309, 18115, 23337, 45756, 2787, 12636, 17576, 4137, 34464, 24454, 13882, 24034, 15667, 19510, 9885, 23671, 44804, 15596, 36945, 40665, 13959, 36182, 29983, 14469, 11810, 20585, 29111, 19406, 42486, 24997, 46566, 2418, 6785, 28160, 4763, 13715, 28388, 41451, 37290, 1001, 18977, 25643, 2419, 42849, 4447, 30442, 49138, 14243, 6387, 40424, 36968, 38283, 15990, 2175, 42700, 19261, 16968, 42313, 35180, 7656, 31843, 8630, 49824, 23078, 2085, 36327, 37507, 24067, 15446, 764, 41202, 17728, 37602, 16433, 49317, 21419, 19014, 33167, 23187, 10059, 549, 19822, 31464, 20956, 20629, 33465, 11402, 21021, 27334, 44641, 6270, 16709, 29291, 21845, 27214, 6603, 22343, 15627, 20096, 35806, 41249, 24836, 16857, 13676, 40543, 25886, 42820, 38489, 41798, 13256, 18150, 16009, 27530, 784, 11560, 32324, 24637, 12082, 6352, 2916, 45273, 5850, 28217, 30567, 40004, 31782, 13499, 19156, 3595, 37813, 18472, 39214, 12833, 12829, 32864, 19191, 24558, 49964, 18919, 15709, 2657, 8894, 23349, 45633, 34854, 1661, 2722, 47090, 18981, 43248, 2373, 18038, 29758, 34702, 30010, 12987, 39551, 4990, 36120, 35155, 9433, 9264, 40940, 26739, 49938, 34186, 2108, 35547, 29858, 14691, 5981, 27941, 43071, 15378, 14273, 2167, 19024, 32352, 47621, 4968, 12734, 33645, 22819, 18966, 31949, 18278, 48397, 8691, 29816, 8412, 17148, 31043, 11575, 22707, 14223, 8954, 29804, 14477, 43956, 5467, 26138, 19908, 23906, 24838, 40351, 46274, 39718, 15973, 47729, 10223, 48660, 4203, 30279, 43879, 26052, 38807, 34818, 1344, 31516, 39411, 31485, 24056, 11770, 9030, 3714, 7195, 5421, 35189, 17236, 10230, 47489, 45627, 3803, 39441, 13765, 8457, 41697, 38657, 3031, 23802, 23369, 13387, 18087, 25634, 44823, 48207, 47358, 35390, 13527, 29818, 25775, 239, 43000, 30349, 19320, 20066, 15686, 30554, 18873, 32849, 46222, 26857, 46035, 40443, 22613, 28602, 42818, 35234, 35424, 12974, 32015, 18346, 2314, 41646, 18576, 47223, 46217, 18083, 36857, 31977, 4495, 43053, 35389, 17009, 11034, 37834, 36956, 33552, 19612, 19252, 26194, 36954, 18600, 15943, 3653, 16210, 30506, 28632, 25805, 23488, 18983, 33136, 48750, 15319, 3394, 16453, 36528, 27093, 3965, 39157, 38202, 33311, 36332, 13345, 36617, 27528, 26804, 30952, 11723, 5448, 18096, 11610, 2147, 38859, 18945, 1015, 4997, 23457, 31781, 16795, 48573, 6675, 37006, 48555, 49324, 5265, 48510, 23273, 39070, 42961, 19515, 16079, 42491, 46924, 8188, 31021, 47192, 25157, 38392, 45181, 8917, 4698, 2271, 2089, 7620, 28336, 3271, 8204, 13679, 17315, 11701, 34838, 40800, 31055, 11077, 27, 26958, 20807, 21889, 12701, 8683, 10366, 46676, 3751, 41480, 27495, 32196, 24959, 42691, 18894, 38854, 47218, 46112, 39042, 49722, 12567, 13548, 1133, 34941, 40771, 49017, 47012, 41371, 28251, 22737, 13316, 2246, 13461, 48632, 26587, 21689, 38788, 21839, 24452, 33723, 28069, 46487, 13930, 43273, 39479, 38966, 48674, 22073, 14159, 33172, 43651, 37559, 33429, 4188, 11259, 9875, 7293, 45828, 32910, 49957, 12569, 8621, 26479, 12088, 29883, 36002, 22893, 46310, 11507, 45772, 41587, 4275, 7515, 25777, 18237, 12485, 3576, 45129, 19900, 21035, 36796, 6340, 31017, 28079, 26962, 23176, 34812, 4260, 21556, 14792, 17855, 26917, 5504, 25272, 13104, 18243, 30701, 36378, 37152, 48704, 40224, 6047, 31264, 8205, 3278, 30994, 24741, 26221, 1653, 31650, 39733, 24295, 45503, 45440, 21678, 48208, 39645, 47977, 18921, 27819, 31801, 37874, 34551, 48683, 47753, 17795, 22338, 46716, 43467, 2292, 13103, 35507, 11262, 30042, 40477, 41928, 32999, 37622, 6689, 43321, 6878, 12962, 25845, 30054, 33295, 18317, 2945, 29521, 23557, 13624, 42698, 32824, 4479, 6642, 35964, 20477, 70, 30723, 35501, 42041, 17346, 7105, 5849, 45831, 47054, 30129, 45436, 3502, 49720, 14026, 36150, 33629, 3448, 21075, 30072, 49920, 19889, 18569, 42494, 47507, 24309, 42549, 5039, 14076, 1460, 34112, 41365, 43526, 7978, 7601, 13087, 24303, 23721, 39602, 45991, 4135, 23981, 8243, 49052, 19993, 11112, 11062, 36673, 30308, 3410, 42924, 36171, 37364, 5700, 36669, 18687, 49316, 23316, 34524, 31109, 767, 32272, 2688, 6978, 10921, 24754, 2482, 10033, 24243, 43387, 8960, 43181, 21740, 40608, 9999, 28130, 37218, 35580, 29785, 37441, 35409, 33138, 17121, 40989, 11341, 38199, 37046, 28263, 19154, 5655, 5303, 20348, 19524, 29558, 45554, 18770, 33477, 16560, 37291, 8928, 81, 29450, 19335, 3293, 14992, 16534, 19624, 42363, 34687, 4355, 17493, 32559, 49294, 46169, 14276, 22079, 16377, 4874, 46635, 39929, 42242, 15229, 47988, 1942, 44848, 32636, 9445, 24650, 31255, 36335, 45421, 20495, 18064, 27348, 5651, 31302, 44903, 18427, 10586, 49399, 29006, 46927, 8287, 23268, 19863, 21279, 7406, 3396, 19169, 33424, 42537, 13100, 23150, 9235, 19602, 3746, 12496, 32511, 1726, 45374, 16459, 83, 3547, 5503, 39018, 11462, 11330, 21428, 26520, 8040, 337, 7755, 30095, 47103, 43221, 29022, 681, 34008, 49661, 27347, 4067, 16269, 167, 22478, 39783, 44094, 16236, 10603, 32805, 15186, 24487, 34389, 24344, 36851, 27804, 9388, 34757, 33430, 47919, 48240, 30657, 44349, 19240, 27053, 26280, 21792, 22289, 48193, 16653, 48900, 5156, 10759, 33576, 20090, 14750, 38313, 22766, 12661, 16578, 49304, 35801, 22436, 36207, 35660, 31716, 14093, 33707, 35748, 8240, 8223, 28062, 8265, 36246, 2260, 8923, 21126, 13610, 14408, 18511, 48882, 22731, 18016, 22445, 5970, 12468, 4494, 43878, 27713, 37958, 19022, 43156, 17400, 22912, 10878, 46836, 16701, 5646, 49254, 34476, 29077, 40434, 36259, 17971, 45963, 49334, 3069, 31561, 2361, 41206, 3894, 24890, 4424, 26501, 25193, 5335, 31091, 6455, 47662, 10914, 29251, 39846, 25699, 22487, 14495, 9622, 11328, 2316, 49638, 22099, 24196, 18541, 25075, 19754, 49428, 5544, 128, 14034, 37720, 2073, 3163, 48786, 13111, 20982, 30819, 2440, 19012, 18608, 37310, 18939, 10907, 10432, 1224, 49980, 1033, 40616, 14504, 3778, 18764, 6533, 6730, 19623, 26325, 4366, 11322, 37369, 19176, 29921, 2410, 2532, 18799, 29127, 23092, 27223, 21915, 31038, 27677, 14004, 32529, 47884, 43366, 1545, 46628, 29554, 3799, 26867, 35254, 35438, 31673, 25980, 41176, 11924, 10270, 31696, 34458, 16199, 14802, 18478, 27225, 11740, 44021, 49644, 25655, 45032, 33965, 21286, 10897, 36587, 19800, 43275, 47528, 47732, 38886, 8156, 7578, 10429, 38513, 30965, 11495, 13405, 7926, 29491, 35049, 28411, 46069, 42902, 12573, 35044, 10831, 44485, 12912, 14931, 20483, 20478, 48566, 45519, 38627, 22131, 4456, 31273, 4009, 7139, 44268, 45762, 3080, 30028, 48303, 21996, 27305, 23227, 27032, 33634, 14932, 28677, 23663, 23523, 11145, 49111, 7227, 39394, 41025, 10541, 30134, 22742, 16470, 19938, 28427, 6697, 15408, 3968, 46022, 9832, 18170, 22870, 36387, 22392, 31582, 9770, 11405, 26365, 1717, 6444, 22390, 23874, 23976, 18587, 47351, 42533, 21370, 40561, 24023, 27918, 22412, 15207, 12884, 21062, 14465, 9450, 44033, 27701, 14896, 29390, 5208, 36191, 46606, 4532, 6807, 44403, 10800, 25658, 41680, 44593, 36075, 28976, 24711, 27016, 38240, 26969, 813, 30543, 1848, 46065, 39346, 44506, 41687, 18685, 45448, 34888, 31062, 46083, 18128, 14875, 40799, 21586, 36056, 37795, 26171, 23967, 28718, 11853, 10669, 37224, 23803, 8167, 11317, 25732, 31557, 24353, 17833, 851, 11662, 23067, 3619, 46209, 40528, 34846, 38447, 30235, 47625, 24998, 21261, 15293, 43468, 20493, 9288, 4534, 37740, 45653, 18714, 10242, 44929, 32919, 13592, 45134, 32012, 45501, 5098, 29945, 45952, 42076, 47524, 34972, 14763, 2850, 15736, 1779, 14522, 38839, 42092, 4641, 1865, 44687, 11217, 13190, 34003, 5840, 3229, 11097, 25445, 729, 44676, 46929, 42409, 32118, 11437, 25733, 36057, 28342, 44738, 3264, 24302, 33333, 1244, 14437, 41420, 25854, 18004, 7780, 35902, 10503, 32944, 46275, 35918, 27671, 37706, 36166, 15371, 19856, 42178, 42054, 4330, 19350, 38555, 10696, 46316, 46867, 42243, 3896, 30189, 39591, 42089, 1591, 43340, 49709, 29970, 36840, 32556, 4956, 13352, 339, 40310, 34732, 12571, 7446, 44104, 17501, 23285, 35606, 21190, 7510, 42033, 27879, 31225, 43056, 42016, 17368, 29549, 542, 13998, 7742, 29760, 47905, 6424, 44154, 18934, 28306, 22229, 37402, 21780, 7000, 41190, 14337, 2064, 49267, 5036, 41022, 9132, 39967, 13161, 40503, 4153, 17332, 20484, 15575, 2726, 12791, 15089, 814, 7518, 21670, 12947, 750, 40380, 21548, 47037, 13112, 17141, 42728, 26909, 1486, 22021, 23437, 32796, 31064, 37174, 18003, 1298, 19652, 32891, 45731, 33737, 32431, 28425, 28845, 48571, 16566, 3388, 46381, 1091, 39160, 24503, 30482, 29857, 27828, 1805, 31688, 6874, 17642, 15242, 9274, 10471, 29020, 21325, 26330, 34216, 44300, 19756, 8050, 40069, 12135, 21258, 44788, 35680, 31791, 11637, 31190, 48155, 45290, 46201, 156, 19861, 42451, 10726, 1204, 8989, 1986, 23249, 24098, 2071, 8282, 45043, 39730, 36899, 16955, 32079, 24339, 35751, 32845, 38437, 26153, 18294, 1750, 29304, 26775, 44325, 48181, 15006, 40688, 47229, 17880, 18459, 28758, 1503, 25418, 37790, 15233, 37501, 17079, 15403, 324, 38758, 47463, 31044, 8269, 47757, 3966, 15354, 11928, 21810, 5830, 48537, 40783, 25141, 6604, 20776, 1330, 46767, 11819, 28736, 41081, 41113, 44260, 28779, 4802, 20414, 3022, 7270, 37391, 12630, 33354, 42111, 14908, 28730, 33747, 11463, 1886, 37899, 11513, 48319, 18176, 21920, 29630, 36997, 18883, 9594, 26738, 573, 46130, 23234, 4529, 9899, 33931, 11004, 43654, 17165, 18626, 28099, 46853, 11155, 33706, 11274, 34221, 17638, 7726, 2334, 19476, 28404, 43535, 17065, 45887, 44781, 42170, 426, 4893, 46017, 2736, 852, 23503, 359, 3853, 13411, 44813, 30126, 7870, 45345, 15510, 37196, 8675, 15685, 9811, 27956, 11376, 40, 24363, 44306, 21006, 39487, 1088, 15808, 10072, 2906, 29896, 9531, 46494, 18347, 8601, 48199, 32667, 10703, 36532, 10206, 49288, 3828, 27092, 34054, 25858, 14850, 25171, 27397, 24415, 20644, 5808, 43412, 26871, 24553, 41531, 1193, 25919, 24575, 431, 22470, 15213, 39845, 46925, 26755, 22908, 4662, 46525, 6815, 22757, 47080, 47786, 37317, 26173, 33246, 3008, 31309, 40681, 43801, 43693, 40904, 11933, 46847, 7815, 36224, 8407, 36556, 32788, 29608, 2788, 34945, 33818, 42642, 1517, 19319, 5509, 37272, 46961, 43133, 45636, 38373, 28757, 35786, 21726, 44551, 9212, 6279, 22355, 13598, 13249, 45531, 29031, 49437, 49493, 45278, 8502, 2509, 7472, 38106, 27257, 42745, 36435, 28341, 22301, 20899, 12726, 44421, 35445, 11174, 3641, 38074, 5613, 16361, 18521, 33889, 11160, 20672, 34436, 48701, 732, 4259, 17868, 11525, 21855, 29061, 21009, 19690, 38851, 19933, 6042, 3174, 41566, 43816, 34312, 10599, 16150, 14103, 23233, 33631, 26185, 22978, 44791, 43315, 35469, 45814, 32342, 25588, 22427, 33166, 7031, 46980, 49577, 4487, 5369, 21961, 4635, 18319, 43466, 8742, 46329, 21130, 2549, 3747, 11753, 31646, 5872, 30188, 27383, 43399, 21214, 42782, 47913, 10315, 49867, 11153, 45482, 8051, 5510, 10014, 20156, 9383, 44561, 45553, 36104, 20416, 6082, 29615, 17392, 49271, 38021, 4044, 13050, 32877, 11072, 49185, 12326, 24763, 46984, 43142, 944, 37229, 19423, 34534, 9641, 20801, 38253, 10657, 14663, 25026, 7229, 39463, 22061, 16291, 7072, 26370, 16748, 16556, 34565, 42088, 23121, 24433, 14453, 9815, 8836, 19487, 16403, 2305, 26167, 44434, 32978, 11953, 7779, 35712, 47261, 37059, 4160, 22387, 25202, 7697, 515, 40205, 30107, 40620, 670, 8134, 22853, 40417, 35867, 10382, 21709, 20415, 12357, 9642, 11166, 49680, 10413, 39851, 5288, 18262, 20451, 29110, 23385, 44700, 24826, 7090, 39742, 45018, 12839, 23044, 40763, 4486, 195, 13805, 44665, 49649, 32906, 8671, 19892, 1156, 13173, 14929, 39414, 42838, 21465, 19663, 30766, 28575, 26410, 11185, 46057, 27066, 32753, 28740, 22483, 27835, 29398, 5961, 31376, 33875, 19177, 27279, 33467, 23360, 41367, 20952, 31892, 33283, 5049, 25925, 39316, 43991, 40938, 44358, 40373, 46267, 20647, 32782, 39103, 48220, 43686, 11442, 35941, 29393, 15747, 42520, 5962, 41565, 13203, 12235, 31620, 41915, 25265, 30283, 4316, 5458, 7935, 6037, 20178, 16896, 47211, 44337, 41828, 15861, 18563, 48754, 35112, 49988, 1199, 32554, 47629, 7032, 5108, 33795, 49797, 28877, 17882, 20794, 17797, 35609, 18318, 6698, 20422, 5270, 38160, 28831, 31330, 35034, 734, 19757, 7562, 22430, 27158, 48785, 18581, 49259, 17773, 19693, 215, 20122, 17645, 9793, 25864, 20001, 32769, 6958, 39587, 27689, 47416, 21554, 5379, 817, 25353, 45184, 28659, 16081, 491, 20562, 15606, 38411, 14975, 41046, 31129, 28982, 28519, 1873, 27065, 37746, 24656, 28172, 29631, 3420, 44603, 17599, 37852, 40932, 39167, 34541, 49826, 28947, 42384, 40247, 21077, 34382, 18121, 14965, 31439, 3867, 46264, 19459, 44119, 42731, 28218, 31578, 22650, 35735, 48301, 34084, 24190, 29577, 7189, 17659, 17388, 28531, 18281, 10194, 305, 35879, 43979, 18568, 380, 27514, 23689, 33765, 18470, 12051, 46811, 1636, 44330, 16771, 10715, 22423, 24714, 12564, 17780, 1172, 45417, 44748, 37099, 13781, 16580, 24981, 39029, 10739, 30310, 31667, 39176, 25517, 32798, 11298, 24953, 30502, 4788, 19506, 37676, 5593, 42005, 43809, 40421, 5431, 44706, 11396, 24819, 928, 5920, 41793, 18074, 2763, 4694, 10201, 43962, 22083, 29961, 16043, 32124, 9460, 22775, 4882, 2013, 34183, 47778, 41938, 46734, 30155, 22119, 8824, 47938, 47893, 35534, 41475, 19965, 31474, 19483, 47505, 1580, 32751, 38944, 21494, 41339, 8929, 37396, 34988, 48724, 26808, 29266, 44106, 1662, 47661, 29242, 7590, 31611, 9804, 4740, 12687, 33837, 34374, 11922, 8154, 13689, 16979, 34803, 13121, 25751, 43140, 4716, 43107, 28241, 7017, 47095, 32912, 3495, 12908, 47059, 18985, 12330, 5517, 18189, 11852, 22932, 27890, 4862, 7082, 46669, 17518, 42524, 15017, 27443, 11061, 45125, 33986, 3173, 48403, 45579, 3370, 38359, 42645, 21569, 20207, 5832, 16270, 27159, 40765, 13983, 19610, 4808, 9377, 1875, 27300, 45257, 36964, 8795, 25607, 31111, 37885, 37085, 9634, 28825, 5905, 44979, 29508, 42348, 6622, 41130, 10555, 22469, 48398, 11450, 8325, 3949, 11267, 41406, 19786, 25707, 29769, 34403, 24516, 42772, 15786, 32641, 39642, 3082, 5626, 27833, 23554, 25522, 7981, 18245, 36952, 38424, 2182, 32926, 6797, 40969, 7398, 17027, 34444, 41221, 3356, 32576, 38632, 2009, 8020, 277, 47258, 8276, 43624, 11363, 43388, 24307, 29751, 11728, 3203, 899, 14884, 3411, 27996, 48298, 862, 45575, 12554, 2424, 48770, 27610, 529, 3593, 46336, 13723, 1175, 44417, 25139, 46156, 45430, 40627, 25932, 20093, 43973, 36602, 26834, 40696, 37956, 34652, 35872, 10002, 33967, 41260, 42859, 37227, 38475, 36645, 21200, 48765, 14065, 34874, 7403, 19762, 15726, 24724, 43688, 30323, 10649, 31356, 25841, 21192, 3311, 43488, 35017, 43601, 19281, 34602, 13939, 39697, 12587, 47976, 29164, 15445, 16883, 46915, 20972, 6416, 591, 8828, 18936, 35716, 6795, 42948, 39523, 28169, 23050, 42616, 24956, 16493, 19545, 6417, 18033, 29093, 32212, 9797, 18866, 26966, 23087, 44600, 1917, 43298, 43026, 44533, 23180, 30982, 27010, 37275, 14162, 14889, 6025, 2965, 38461, 16059, 29973, 9098, 10238, 4606, 34394, 39680, 19949, 48361, 32344, 38438, 24852, 25155, 42108, 44590, 18334, 5148, 42145, 25681, 31301, 10665, 1318, 4751, 40725, 355, 49874, 48079, 3676, 34912, 21811, 43837, 45155, 48043, 22282, 4568, 45607, 46912, 33948, 35838, 46263, 4194, 41652, 41074, 19489, 49061, 42679, 44258, 4082, 14999, 24519, 15064, 35664, 41533, 10260, 38659, 28588, 20986, 3707, 9246, 20771, 34898, 1393, 10510, 30033, 26719, 12434, 19501, 7866, 10460, 48974, 32648, 15787, 7393, 15343, 45295, 21514, 32454, 37717, 29931, 3729, 36986, 23780, 25121, 46180, 25357, 2274, 27741, 5661, 26476, 29516, 42872, 43645, 15001, 20384, 12441, 5361, 8538, 19109, 29292, 48940, 3439, 12495, 44405, 13573, 44733, 15833, 3223, 3154, 42136, 28998, 28060, 4907, 23956, 25747, 292, 667, 31396, 43434, 26122, 4279, 125, 7881, 45686, 28722, 15631, 22384, 2222, 22804, 14178, 45753, 19823, 48795, 30833, 3780, 43027, 27229, 22362, 44023, 7339, 571, 26921, 6645, 29223, 11397, 20027, 5095, 25000, 33366, 20487, 37119, 41632, 22502, 41327, 22404, 37796, 49704, 7348, 31382, 17172, 48804, 985, 3122, 22066, 23230, 9877, 21935, 2043, 8651, 39224, 11657, 10063, 40850, 31447, 36625, 20706, 25565, 18029, 32970, 23549, 45976, 11851, 42358, 40760, 24672, 46342, 23686, 10218, 33548, 45970, 18554, 20372, 7143, 46256, 9112, 42901, 20935, 25940, 32802, 25795, 5355, 14639, 40164, 17604, 35225, 41029, 36368, 30798, 42960, 20623, 34942, 12897, 24232, 27927, 28663, 30922, 44522, 36515, 29391, 6510, 40613, 36380, 18621, 5921, 38148, 3241, 19731, 22785, 28222, 11638, 21362, 11041, 8527, 41672, 12781, 34612, 7315, 23244, 9742, 37735, 33488, 27051, 44489, 30813, 15227, 17688, 39823, 38723, 26387, 7001, 31564, 11113, 18656, 19128, 12433, 46609, 22795, 44735, 24879, 32397, 43917, 43761, 48956, 20310, 16562, 38583, 14838, 9727, 21828, 33213, 48925, 4391, 20141, 6968, 1730, 46193, 151, 44014, 20263, 29383, 36522, 6664, 30583, 40261, 17925, 9360, 32599, 9521, 16574, 10704, 31842, 36689, 23479, 30938, 3554, 18924, 28032, 5694, 35170, 1362, 770, 11999, 32781, 31928, 12692, 19019, 25294, 11756, 1374, 1989, 7669, 35951, 49028, 10012, 26042, 4201, 33543, 33759, 30908, 47873, 31413, 19552, 4570, 21790, 14894, 18910, 18571, 31427, 8344, 24882, 4678, 34447, 43905, 36696, 6829, 11711, 3841, 15040, 27095, 5169, 37933, 40640, 25990, 29141, 3341, 49929, 45220, 18284, 43697, 36176, 12879, 49440, 896, 37682, 20755, 18420, 43501, 18224, 19641, 44342, 11406, 13184, 17235, 28565, 49094, 15823, 46612, 16429, 12293, 33192, 20548, 25704, 10379, 16367, 7250, 17427, 13550, 43663, 9924, 31942, 41552, 12354, 22113, 32762, 42732, 34644, 18370, 3636, 40946, 8513, 40142, 40425, 40498, 41940, 23876, 12138, 8877, 46533, 633, 49798, 6148, 28382, 49311, 13261, 37097, 36284, 30828, 41090, 27632, 2239, 32228, 5109, 29282, 30100, 24781, 42416, 39527, 49135, 4276, 47790, 49698, 5582, 16940, 18596, 48519, 34028, 47222, 48401, 21447, 39205, 38606, 7073, 31577, 24266, 33557, 5263, 48352, 15390, 45164, 38020, 29736, 49459, 12048, 25645, 351, 10128, 4309, 32675, 298, 22909, 41656, 8194, 19107, 39963, 20527, 36111, 42013, 12379, 1579, 20160, 21831, 25999, 10600, 11800, 6500, 8956, 34338, 17342, 34141, 3943, 18909, 28816, 2888, 25641, 24895, 14622, 32396, 40302, 17873, 27937, 2872, 9022, 8611, 25793, 48771, 26085, 6526, 11144, 45751, 39808, 46856, 13611, 49296, 24870, 19676, 34286, 29846, 46317, 2602, 33769, 33885, 17029, 45039, 33091, 49708, 37818, 37542, 37734, 22266, 1220, 34992, 9233, 29572, 33733, 26366, 16789, 12939, 42444, 30608, 49754, 1222, 2605, 43666, 31181, 10007, 29457, 31570, 1584, 36724, 7795, 6962, 18540, 34849, 21958, 10909, 1743, 16970, 8873, 45806, 39315, 2997, 8492, 46913, 20025, 17173, 31384, 1678, 14009, 3401, 13634, 45300, 41707, 44224, 39630, 10053, 28252, 30626, 23502, 37574, 38069, 48373, 33608, 14994, 1159, 22081, 28322, 8433, 1436, 10108, 9756, 5745, 6722, 42484, 31727, 45225, 39343, 39909, 14480, 12447, 30292, 3227, 43236, 41809, 34422, 16603, 48913, 25417, 29385, 18254, 41593, 20503, 14940, 12238, 23412, 48230, 49771, 25900, 41431, 47546, 4086, 16546, 18407, 34209, 3041, 18742, 19653, 44478, 46850, 28993, 11584, 20814, 25595, 12199, 44999, 15442, 32381, 47888, 7036, 5456, 34091, 44329, 49412, 33594, 39483, 47150, 27602, 738, 32793, 28644, 5513, 2241, 29935, 30682, 34932, 38959, 41887, 12263, 27567, 37351, 35739, 36688, 13589, 26247, 6035, 19556, 25168, 6246, 39997, 17417, 26151, 4966, 8215, 9953, 39295, 32812, 7272, 1978, 34632, 28188, 23698, 15052, 21719, 2751, 3563, 34786, 36472, 17060, 1842, 37926, 22640, 43676, 46995, 31806, 43284, 10841, 7239, 863, 4144, 14701, 47071, 154, 28540, 26333, 6224, 8763, 5419, 33436, 34762, 30222, 8436, 10908, 12396, 5268, 46334, 6267, 29279, 23324, 48188, 28056, 38893, 22082, 17072, 6935, 44062, 18809, 22332, 12596, 18353, 27478, 24872, 43477, 5489, 48854, 16713, 12561, 20788, 30759, 36749, 31798, 34543, 45863, 23208, 32907, 47471, 33551, 21636, 33536, 6932, 42577, 28990, 48866, 16960, 23787, 39415, 16822, 17554, 43869, 21989, 43424, 9974, 47580, 45534, 17317, 49212, 46404, 10828, 2503, 36563, 11687, 42778, 4015, 35703, 41561, 32581, 40437, 22428, 46721, 37404, 20036, 38736, 28651, 16762, 15071, 33244, 24187, 47165, 1360, 40959, 23036, 20408, 9862, 41177, 34288, 36903, 1017, 45305, 16863, 5497, 37332, 45663, 14188, 9161, 48753, 20008, 48932, 33470, 31315, 11147, 14024, 23470, 15474, 38050, 16106, 42525, 16008, 7541, 26240, 24921, 9158, 22085, 28776, 12339, 5680, 39226, 49853, 19692, 18050, 22328, 48446, 29408, 28986, 7701, 1646, 42509, 25234, 9200, 18090, 11273, 26492, 13335, 12799, 33988, 8253, 33086, 819, 40264, 43588, 4167, 49804, 46123, 46418, 3458, 24321, 32768, 24973, 33260, 1403, 26611, 44639, 13127, 44486, 12305, 31408, 7524, 18988, 28760, 34976, 33787, 31235, 17234, 1228, 7553, 44365, 22654, 33278, 21560, 43880, 36607, 21698, 45135, 25935, 32772, 16768, 12887, 27134, 23323, 11987, 4267, 6096, 23411, 20687, 17448, 3470, 29375, 15060, 10183, 35278, 47443, 31487, 37887, 45720, 2925, 39337, 25878, 35396, 41309, 30176, 8704, 7034, 22176, 2729, 46126, 38865, 33785, 1246, 11287, 25967, 47962, 15163, 39678, 17847, 7964, 41387, 23527, 5032, 9323, 42186, 36089, 46403, 47047, 43481, 26698, 8514, 33627, 16393, 24418, 33715, 20146, 44695, 6925, 5679, 38757, 23542, 1031, 43392, 29913, 38336, 4434, 32904, 42232, 12218, 34033, 26355, 29327, 47567, 14200, 28303, 10400, 31681, 47479, 4105, 36877, 29310, 37822, 46257, 11290, 42641, 26517, 30576, 24475, 12597, 13617, 14457, 49056, 9788, 22290, 3976, 8597, 49909, 31820, 23193, 20766, 36613, 16451, 14828, 38391, 3698, 18944, 29372, 48789, 37918, 807, 13120, 44915, 44972, 4785, 8699, 23927, 9551, 20981, 8431, 43736, 17283, 3873, 22356, 16945, 13441, 8212, 21311, 29426, 44012, 10117, 19040, 11904, 34861, 37835, 45799, 28277, 368, 7806, 6107, 24215, 9969, 30800, 25475, 43353, 37846, 46550, 4685, 1536, 26206, 5740, 837, 26524, 2653, 28481, 48941, 14293, 13847, 43210, 17025, 14003, 49305, 32993, 43166, 33173, 9197, 28737, 48947, 29767, 11917, 42527, 18129, 25964, 9554, 22101, 17684, 19477, 8277, 8996, 7885, 47406, 48219, 1650, 43587, 33176, 26910, 41150, 35812, 23486, 30278, 46694, 6992, 35336, 7291, 40570, 2614, 14202, 7940, 7969, 42353, 22625, 47125, 10226, 20291, 35473, 29326, 8546, 49048, 33388, 39421, 6261, 49907, 35220, 29957, 36399, 32187, 31263, 19600, 23131, 8907, 3213, 32343, 39262, 9186, 40325, 5357, 20567, 3413, 37037, 28296, 10045, 4793, 48467, 37636, 1113, 10114, 25811, 40266, 26291, 21622, 23167, 8724, 824, 27951, 19162, 5846, 48661, 42788, 22201, 35020, 20072, 48823, 45353, 25890, 27913, 41496, 6299, 27824, 32469, 21083, 40853, 6713, 1899, 33174, 7800, 42381, 48865, 44133, 44262, 46834, 20780, 22069, 19058, 12479, 18911, 20364, 28087, 14517, 12627, 36565, 17502, 27600, 14126, 41735, 17636, 17521, 32920, 48576, 27098, 49293, 39328, 20690, 9581, 37837, 32545, 11019, 13628, 48732, 21185, 42751, 37767, 13351, 43215, 18165, 18828, 43091, 39085, 30498, 4705, 23910, 26314, 22934, 39536, 16565, 45294, 46370, 48581, 7565, 21113, 30825, 39750, 34613, 2030, 4556, 34864, 46117, 4903, 26356, 30987, 12838, 5412, 5936, 19553, 41426, 13219, 37624, 18443, 11448, 22792, 11621, 26533, 17640, 47246, 17059, 35025, 10094, 14983, 18428, 19651, 913, 39270, 43256, 12889, 9225, 48035, 44753, 21069, 6326, 41968, 12023, 22595, 9711, 19159, 28015, 9504, 23852, 41123, 46368, 13516, 30548, 33618, 36637, 39988, 35709, 19198, 1442, 39798, 35818, 16477, 47082, 9637, 40107, 11, 29910, 25572, 42996, 45224, 34228, 15942, 37405, 2541, 41390, 27574, 8537, 29350, 14944, 33343, 24422, 47382, 41430, 11203, 3209, 23490, 41397, 24499, 1577, 14758, 26752, 3150, 17532, 25322, 25497, 16467, 13514, 4676, 2140, 24892, 15427, 5188, 42126, 36034, 21691, 47466, 20884, 21269, 27637, 17314, 44874, 32239, 2474, 18435, 2701, 18195, 43158, 39053, 34929, 10328, 19466, 16026, 14808, 6939, 35284, 23501, 35483, 37898, 34015, 28152, 22601, 12269, 37302, 35110, 27086, 19200, 29859, 7637, 17587, 27182, 6564, 3284, 25033, 7568, 23834, 3434, 36612, 31671, 4650, 18916, 24327, 11281, 7939, 22703, 13372, 43230, 10281, 14254, 14771, 7717, 15564, 24508, 29778, 32211, 1165, 24090, 44982, 16788, 17804, 46954, 10573, 42874, 45561, 37458, 12327, 47455, 746, 32660, 32815, 39266, 11778, 47272, 29646, 13178, 11909, 22741, 32150, 44892, 2360, 21963, 19879, 27635, 1308, 6119, 2370, 29688, 10216, 26264, 30434, 45343, 6497, 40251, 46508, 8481, 1395, 36831, 14218, 10871, 4396, 24908, 20701, 20791, 28455, 15067, 1896, 33450, 45758, 25937, 5168, 15055, 39077, 17037, 27363, 19599, 27015, 12432, 22678, 152, 28156, 15208, 6680, 16031, 2397, 15521, 24267, 21394, 46348, 28369, 4386, 17256, 17956, 3817, 5890, 27421, 20028, 4554, 4900, 9778, 23867, 5771, 2430, 20499, 4582, 7830, 47638, 32185, 4933, 10158, 4399, 18781, 15117, 27296, 29062, 21718, 11741, 19582, 28719, 25068, 14671, 5536, 28104, 44531, 29619, 8078, 18973, 49627, 4216, 38693, 18601, 17848, 11840, 40709, 42117, 12463, 36805, 7989, 27294, 7544, 22569, 49529, 35888, 35682, 15853, 20436, 33843, 7085, 388, 9689, 36538, 34356, 3398, 37082, 49659, 45000, 14910, 34937, 954, 7506, 21589, 37467, 19212, 30883, 46818, 30195, 5652, 16944, 40318, 13961, 8931, 28195, 22592, 48596, 33936, 26259, 29387, 7385, 49454, 17942, 23298, 29486, 34357, 35277, 32995, 24995, 30340, 4833, 12677, 41781, 13718, 38918, 34559, 42255, 28579, 36037, 16666, 30296, 43848, 45682, 44453, 31117, 16192, 41974, 27836, 21302, 17618, 13333, 22501, 45336, 23170, 22554, 42061, 44063, 36114, 15543, 25109, 44471, 2492, 28453, 6726, 49363, 36999, 17575, 37489, 1125, 17812, 31276, 33469, 15400, 10449, 10552, 33074, 35512, 8895, 31320, 32053, 11848, 33155, 32296, 48649, 45127, 39465, 29272, 30216, 14741, 29245, 3544, 18975, 22485, 35523, 33150, 42304, 48180, 43036, 42939, 10727, 3255, 10695, 35982, 4401, 47748, 26067, 6633, 27423, 21557, 5498, 32073, 18219, 31723, 43625, 44064, 34584, 12994, 15120, 41332, 14818, 40055, 25182, 11781, 45376, 4285, 18484, 45365, 42018, 7955, 24025, 20738, 34165, 12381, 39261, 11460, 17378, 29441, 2716, 21244, 1729, 35908, 24129, 10584, 26553, 27840, 26444, 49809, 20094, 31746, 13482, 14745, 45103, 15599, 394, 23925, 5608, 10278, 18017, 44447, 18517, 44718, 15850, 9496, 41626, 6827, 38595, 44406, 48464, 41838, 41095, 21108, 24675, 15769, 26903, 49814, 39259, 15514, 15359, 39181, 43896, 22789, 36959, 32888, 33921, 36829, 19325, 22626, 27248, 33139, 11323, 12547, 33825, 5989, 15859, 31513, 29535, 6257, 11334, 2319, 40533, 15511, 6892, 1931, 7055, 49943, 21508, 37496, 36364, 32097, 47516, 24052, 2119, 37449, 37836, 25679, 39720, 25107, 6513, 4898, 37635, 19326, 5269, 18447, 37671, 9374, 36394, 42330, 3955, 29800, 49961, 32503, 29064, 14788, 27452, 42184, 8718, 25617, 23835, 35768, 25349, 2889, 37267, 15878, 22128, 16750, 44049, 22806, 688, 3733, 28364, 21136, 35527, 40539, 32638, 4075, 45657, 40517, 45824, 19372, 15079, 43531, 30368, 15567, 49132, 26963, 11761, 21822, 36189, 38252, 45285, 11846, 5336, 22812, 49885, 31034, 49264, 267, 9981, 37658, 739, 31528, 19461, 5525, 21276, 42868, 413, 10560, 44958, 32632, 14577, 1089, 14301, 25108, 38938, 17643, 23612, 8593, 42051, 37892, 12036, 84, 48423, 38073, 49126, 14603, 39472, 21833, 14144, 41001, 46456, 23785, 27288, 36775, 8845, 16828, 13200, 6287, 38597, 6010, 8966, 329, 9331, 25948, 46726, 41344, 27782, 39633, 36098, 9224, 25226, 40440, 48237, 48523, 31049, 12733, 43270, 7817, 16633, 2481, 47051, 41526, 10927, 40262, 44789, 11426, 17202, 25584, 15889, 11935, 33585, 37211, 8367, 10466, 12942, 27712, 48767, 794, 39797, 31093, 40464, 16183, 41197, 2063, 31156, 21096, 44457, 21051, 35584, 9214, 30163, 15136, 17979, 38232, 44278, 2151, 38575, 23435, 20544, 3534, 31828, 27230, 10540, 36569, 33727, 11102, 17119, 46397, 11214, 23643, 40567, 5239, 35252, 34470, 33026, 12888, 21268, 17876, 44801, 13703, 9044, 43536, 20235, 14733, 16417, 7027, 42063, 1783, 29236, 4613, 24729, 47575, 39276, 42463, 20417, 14044, 33330, 19951, 28198, 14196, 825, 30845, 21852, 33082, 46454, 8924, 38143, 39810, 36417, 22892, 14449, 25770, 12157, 31958, 45230, 49912, 19712, 37807, 4016, 1927, 40374, 5126, 44661, 32286, 18524, 23304, 30781, 16654, 39155, 45416, 39796, 23892, 14775, 20251, 16022, 40604, 35290, 470, 39255, 2290, 5821, 28771, 36932, 40106, 2980, 19962, 40955, 44353, 19443, 39667, 40045, 2008, 7756, 46982, 42466, 47325, 37293, 25553, 20357, 25164, 37529, 20883, 19119, 38265, 32948, 24371, 48283, 34648, 29416, 25411, 43515, 22323, 7895, 22655, 1828, 595, 8708, 31389, 31876, 3543, 48255, 28573, 44878, 17467, 12272, 24004, 16149, 30538, 48420, 3939, 26851, 19973, 38737, 17081, 41843, 5027, 5385, 45833, 18411, 23620, 41783, 30255, 15358, 43656, 2201, 8664, 19408, 44363, 32875, 31224, 26196, 28249, 48055, 41111, 33659, 44578, 12142, 133, 6401, 36895, 44081, 24197, 11841, 31082, 10140, 47129, 30670, 3358, 20247, 39985, 21482, 6624, 32640, 19956, 44326, 4325, 33524, 38915, 33583, 30065, 37948, 42812, 7182, 48727, 5101, 8238, 8980, 22887, 36265, 45054, 32633, 19155, 9310, 10368, 37, 12787, 19321, 28101, 3946, 16334, 49202, 28256, 10823, 1997, 31777, 11393, 43941, 12163, 20489, 48829, 36281, 10687, 4218, 22653, 2852, 49139, 49801, 41803, 43706, 6841, 22291, 49019, 49524, 34733, 44295, 37601, 22928, 9571, 1742, 25158, 46266, 28715, 35816, 11950, 6822, 22669, 19192, 31359, 8698, 23246, 28468, 27035, 38284, 623, 47880, 29671, 45352, 14686, 39518, 256, 21493, 2275, 8596, 14540, 12229, 30651, 3261, 5001, 12869, 49470, 23993, 25241, 10214, 26973, 18667, 28240, 2000, 6307, 21927, 1179, 38145, 44493, 39717, 44762, 21816, 32157, 21441, 30617, 17408, 44440, 30761, 2677, 42290, 44798, 29740, 9071, 39064, 2977, 43355, 41717, 12984, 2358, 36203, 37573, 1854, 33475, 4133, 27726, 13299, 4938, 23753, 28524, 34260, 18431, 21814, 26107, 19085, 38128, 34544, 5995, 23331, 17616, 26086, 40730, 31800, 26056, 8976, 26392, 39406, 10994, 35865, 29962, 28385, 5579, 48853, 22704, 37306, 18972, 21324, 37150, 22527, 40659, 8430, 6197, 13975, 39354, 22380, 30121, 14272, 4248, 3071, 35137, 41195, 10623, 5542, 47184, 29648, 662, 42814, 31477, 10852, 24141, 24815, 20016, 22927, 15132, 6522, 6696, 16504, 21512, 5982, 35623, 19821, 35511, 8897, 47983, 8745, 2399, 47941, 6059, 49648, 21876, 31265, 26991, 2790, 37000, 25410, 3251, 10084, 41755, 19997, 5276, 13977, 40360, 9834, 5403, 8604, 25601, 29026, 21857, 8036, 45851, 45846, 8927, 28553, 21340, 39136, 4254, 46383, 15720, 366, 31520, 16229, 25271, 37842, 41393, 5991, 41227, 4331, 22647, 26464, 32116, 1490, 8064, 45939, 42659, 25764, 44559, 1890, 9472, 45069, 25575, 42651, 2195, 18712, 46557, 28243, 34528, 37222, 4981, 17469, 22414, 5538, 49893, 33324, 5792, 17563, 21001, 1488, 25102, 44042, 31360, 45572, 44286, 47417, 38243, 49451, 37230, 31316, 48948, 24159, 3606, 19883, 33374, 38474, 25539, 39700, 35962, 33652, 19772, 35631, 14370, 46581, 10490, 36654, 49689, 32911, 41317, 14680, 29047, 20678, 17775, 9184, 27505, 35376, 7285, 37760, 22772, 44607, 7781, 16468, 24794, 38713, 181, 18144, 37810, 15073, 33106, 16122, 6194, 24845, 9505, 12900, 43931, 4157, 17463, 39408, 11428, 9590, 30199, 40723, 21576, 6839, 10685, 21754, 3627, 26401, 31822, 85, 18711, 35164, 12397, 5779, 13295, 37637, 33605, 35120, 16914, 10507, 33591, 41959, 318, 8390, 8814, 16198, 12695, 17720, 8469, 44858, 43066, 43227, 18339, 7028, 38553, 49229, 6876, 29443, 10073, 362, 13193, 10502, 28638, 46572, 12998, 2616, 14095, 10884, 20744, 30803, 15997, 21381, 23236, 33348, 14636, 28197, 23226, 2801, 48717, 18793, 46025, 15037, 6776, 386, 10333, 42052, 24545, 5784, 46849, 29365, 5710, 727, 35696, 5930, 44292, 14356, 15292, 23649, 17477, 11669, 29718, 36815, 41449, 49203, 45036, 20819, 1019, 17737, 35589, 47241, 27145, 40694, 43512, 7076, 10643, 26670, 6759, 12778, 34282, 42378, 41347, 440, 4688, 7314, 33860, 13569, 27217, 30075, 28446, 32507, 41620, 13304, 38220, 20399, 45888, 1369, 24235, 43537, 6677, 17649, 9271, 36936, 28262, 37896, 4894, 6792, 36174, 34826, 46064, 4522, 17182, 46671, 23506, 4258, 4241, 43491, 41780, 43320, 16706, 32408, 34257, 12848, 13182, 24940, 36328, 26276, 46283, 4790, 34335, 13818, 2813, 8176, 4238, 5116, 28520, 19747, 5518, 13732, 10384, 45409, 44702, 22624, 19779, 47383, 32498, 44228, 7624, 4506, 46129, 27634, 30187, 29178, 19263, 43940, 5976, 33189, 10041, 42386, 21086, 30972, 34876, 26628, 36065, 9436, 38955, 46034, 43717, 27161, 1902, 36495, 21109, 30852, 759, 1835, 24645, 41050, 45490, 32700, 9223, 1046, 30805, 31518, 34329, 26811, 49162, 32414, 23576, 21367, 8498, 26669, 44911, 11867, 21843, 23415, 18268, 2311, 26567, 28206, 19418, 4996, 36303, 19909, 35647, 9789, 19850, 2102, 45563, 26358, 44509, 11355, 14057, 38121, 48578, 33045, 31482, 1054, 19206, 49592, 33046, 48938, 23744, 31719, 37448, 15970, 30066, 46709, 48382, 33019, 48773, 6538, 3649, 43510, 17589, 48236, 5543, 41205, 17005, 44130, 35502, 4119, 34367, 39215, 29588, 43051, 3914, 42550, 38142, 22398, 14394, 44815, 43, 4809, 8615, 10905, 26826, 43435, 7849, 15098, 13547, 37980, 38236, 5628, 47110, 11446, 38749, 10891, 30581, 2075, 13597, 24259, 38256, 48111, 27320, 2480, 10730, 8946, 27400, 4441, 12756, 40005, 1518, 36352, 40579, 13645, 22615, 40585, 33935, 13450, 40897, 16941, 19235, 41370, 1905, 18620, 35698, 46412, 17113, 38279, 7577, 32382, 43094, 36256, 23308, 5047, 22852, 16537, 5035, 14374, 45861, 34847, 21344, 10529, 22169, 20175, 17230, 34253, 1562, 30150, 6573, 42771, 30760, 21335, 12244, 26203, 8624, 12579, 7011, 10887, 10277, 11749, 18481, 32317, 14398, 10077, 4315, 9329, 26249, 43774, 18695, 38203, 23718, 26887, 44378, 38538, 10818, 34273, 30382, 37273, 36433, 49765, 46517, 10156, 5748, 28498, 18255, 14630, 22526, 32068, 15282, 30876, 40243, 114, 5934, 1908, 46455, 11228, 28987, 15245, 21599, 8516, 11483, 44261, 38798, 15999, 41805, 47657, 14822, 29406, 36248, 26861, 30053, 26733, 6966, 9422, 38653, 2458, 29158, 5842, 45523, 44076, 230, 25868, 13124, 20886, 14431, 23484, 6235, 33850, 33120, 13014, 26699, 43223, 49270, 1218, 43647, 4795, 10127, 15842, 26866, 11417, 15547, 13237, 23310, 39727, 37001, 30004, 41039, 31472, 49620, 47828, 26562, 15344, 40340, 4873, 478, 654, 6460, 1891, 34469, 35980, 652, 44105, 47323, 17549, 40816, 29453, 3598, 10957, 18534, 40834, 15148, 11046, 31432, 39306, 32646, 47777, 45999, 48041, 18881, 4686, 48265, 12565, 46869, 31304, 6695, 29499, 48918, 33349, 15712, 45950, 47459, 17886, 29155, 26767, 8887, 25156, 4264, 35385, 35238, 10232, 5943, 17472, 25090, 3343, 7450, 15806, 23773, 13799, 4544, 7863, 4871, 6481, 47696, 13696, 23880, 27778, 37131, 31364, 16138, 30679, 40497, 48586, 17913, 8391, 45596, 23204, 15271, 12794, 44101, 28182, 2022, 14050, 7088, 28073, 13539, 34308, 8203, 38814, 29622, 10547, 49476, 39303, 14349, 42595, 15216, 18504, 38550, 28977, 43083, 48307, 35632, 45630, 46583, 3151, 237, 6808, 46300, 24390, 18577, 40672, 44098, 23098, 29840, 35341, 47099, 898, 34428, 29166, 8109, 16144, 10121, 4078, 48104, 8818, 4251, 34788, 43782, 17462, 42238, 18401, 17364, 20757, 7609, 45276, 545, 4318, 4054, 39762, 13605, 7223, 32586, 30032, 40198, 5117, 2449, 2539, 19638, 32440, 41877, 24122, 49058, 23626, 48579, 23547, 49942, 40478, 40977, 22198, 21994, 22207, 17929, 18941, 7986, 44610, 41418, 973, 44386, 31436, 42453, 48642, 6239, 20979, 5447, 17605, 32579, 41791, 36429, 10538, 34672, 17110, 40234, 30897, 35108, 5674, 21918, 7618, 38394, 12909, 23829, 24449, 499, 19306, 19436, 47319, 11053, 37016, 12864, 34412, 14493, 1445, 19744, 9672, 25741, 16870, 15679, 45480, 25043, 16104, 1483, 611, 10339, 12320, 47308, 14400, 25804, 25080, 27529, 7813, 37379, 37985, 16484, 43185, 19074, 23609, 33556, 29557, 45883, 4037, 1900, 23364, 43449, 33553, 20392, 26389, 16824, 25328, 38113, 31718, 29652, 35153, 35392, 43936, 30919, 10621, 3191, 18448, 41883, 30984, 27657, 10184, 4714, 49794, 29824, 37482, 41438, 42955, 15979, 48759, 17910, 40253, 42608, 42555, 40821, 1581, 34275, 28486, 19259, 23505, 49774, 19636, 294, 26615, 17001, 23000, 948, 14066, 24536, 3844, 44356, 12464, 24406, 15020, 48688, 37859, 5854, 42338, 5761, 47270, 17443, 5802, 39345, 11796, 1915, 19629, 11595, 48456, 16879, 38688, 31468, 5863, 38890, 46270, 47522, 41854, 35485, 39111, 28150, 24768, 48020, 10598, 32000, 3450, 16881, 3348, 37670, 7725, 23381, 9315, 42485, 45061, 11146, 29669, 6800, 23710, 26683, 391, 25228, 21751, 29702, 18122, 36792, 48044, 20089, 41962, 25758, 25951, 11501, 46001, 39787, 12932, 13854, 11488, 33231, 18274, 29766, 8007, 46248, 11832, 13874, 8785, 4003, 19567, 34979, 34371, 45727, 22811, 11345, 32207, 11490, 12600, 14648, 22635, 21667, 723, 33029, 48821, 49821, 46012, 15935, 10721, 26538, 31489, 47986, 41507, 44060, 10096, 39971, 29490, 21026, 30438, 2489, 24860, 31480, 36783, 25327, 39350, 47791, 18307, 45706, 9116, 2815, 47063, 25126, 16206, 31617, 4066, 28928, 11042, 18797, 31919, 46937, 38162, 42270, 45104, 28841, 27870, 8952, 36911, 7514, 891, 5339, 41172, 35489, 16716, 25888, 29786, 36444, 20612, 7857, 8283, 39621, 32814, 18177, 23723, 47708, 26214, 21165, 7012, 46761, 11309, 36942, 38544, 3310, 33384, 36933, 2593, 10317, 29877, 656, 39444, 9572, 21172, 29437, 35826, 18548, 33756, 35345, 3468, 30601, 42477, 4204, 17637, 19513, 46111, 42944, 40784, 246, 25540, 14354, 36579, 40683, 7029, 29075, 33225, 25737, 38339, 49042, 45185, 11327, 23845, 16730, 31581, 36209, 5446, 21361, 29747, 18153, 7129, 13115, 37988, 49712, 7281, 40695, 16830, 33195, 21953, 9117, 11503, 39089, 44059, 38607, 15676, 31392, 18104, 16076, 34681, 17753, 32738, 24102, 16727, 2590, 6803, 45478, 10164, 1229, 32915, 47713, 29933, 37565, 46028, 15111, 1032, 42002, 41207, 20052, 44681, 43048, 14581, 24509, 3898, 39613, 13623, 25472, 26671, 3313, 49247, 44577, 22584, 41678, 30515, 2929, 48700, 28115, 43344, 16084, 3419, 10856, 11808, 28855, 29362, 8870, 28323, 43161, 42822, 25533, 45095, 27839, 26239, 40019, 36584, 12544, 32577, 10524, 3215, 9483, 8562, 42826, 47881, 3516, 11378, 18201, 17813, 11986, 39766, 26254, 26806, 25237, 39239, 17923, 20898, 36882, 475, 38754, 9722, 27436, 49865, 39139, 30035, 4995, 43444, 40347, 34100, 18616, 39658, 29319, 25823, 161, 9866, 25790, 38862, 37888, 1399, 14348, 22712, 41555, 23953, 9684, 1558, 31608, 47854, 795, 10042, 29601, 30835, 21457, 14158, 42325, 23672, 31372, 12318, 21862, 33655, 38008, 3967, 15843, 11206, 6346, 15635, 26216, 27515, 49166, 13519, 14245, 7627, 25047, 46636, 48107, 21699, 9630, 5487, 36390, 37722, 31052, 17423, 11159, 8922, 17654, 46737, 10268, 27896, 5906, 38715, 21770, 9675, 17028, 28954, 16832, 5365, 19706, 24752, 22696, 41109, 30948, 15329, 4092, 5278, 8903, 2735, 39232, 7569, 22849, 3094, 15429, 562, 30854, 27339, 46668, 26371, 34093, 8, 21257, 47265, 40512, 41163, 46031, 41615, 18327, 34405, 37703, 41761, 14306, 23725, 38726, 23399, 6789, 49924, 30955, 49764, 1245, 42333, 44129, 8717, 43939, 193, 17390, 860, 29695, 21164, 46395, 38158, 32540, 33385, 44782, 39098, 6238, 8982, 42607, 5869, 34636, 21434, 33158, 13633, 27056, 34274, 30483, 36484, 36571, 20716, 46139, 12403, 30034, 36746, 28599, 10975, 31644, 16630, 9136, 34656, 49625, 23405, 47414, 8852, 22758, 26948, 23872, 25869, 38809, 35619, 36940, 47947, 33570, 37384, 41403, 49473, 32322, 40110, 24039, 8235, 37394, 16049, 6632, 1665, 42497, 21611, 19987, 25749, 37072, 24990, 49876, 31250, 19171, 10677, 20962, 24984, 19131, 26639, 49465, 19309, 1183, 25450, 48481, 20958, 35828, 14049, 37335, 7455, 6773, 4051, 5630, 496, 46142, 2309, 35894, 15043, 14529, 29726, 17874, 32429, 3493, 23351, 1957, 8399, 13672, 25392, 42068, 25096, 31066, 4222, 15928, 4834, 28269, 2161, 42467, 35374, 15648, 1056, 21842, 20711, 23436, 33372, 17683, 10663, 12747, 22465, 19102, 31814, 14497, 39707, 24765, 11272, 2018, 23766, 27061, 26195, 37587, 39545, 16118, 16178, 19954, 10956, 21716, 23374, 7790, 21339, 27674, 27410, 31590, 48335, 38525, 17962, 26402, 32200, 3258, 43713, 33521, 15346, 27958, 30686, 22094, 21759, 40979, 49976, 2454, 37526, 43889, 21515, 28418, 32663, 47780, 18812, 32876, 46985, 46387, 19836, 41543, 26579, 1843, 13258, 8471, 13591, 3269, 3764, 12395, 46944, 2232, 49177, 14684, 3777, 17696, 11598, 8329, 1877, 8666, 36424, 36505, 880, 40671, 33752, 45537, 26784, 46020, 2463, 16340, 31795, 1686, 2679, 46413, 6182, 4832, 32421, 42506, 6989, 17335, 29826, 26316, 38002, 36856, 17290, 2803, 9039, 901, 7096, 7109, 5948, 30533, 33227, 1092, 1688, 5274, 1996, 27864, 26718, 24053, 18182, 39299, 14565, 25188, 39956, 43198, 29500, 9883, 3067, 18193, 49258, 38323, 47807, 14123, 6099, 49257, 5929, 29895, 31879, 19937, 38666, 47393, 6166, 21157, 14693, 29316, 18848, 47971, 15743, 12801, 45985, 12092, 29873, 48271, 45937, 48953, 13606, 34224, 34491, 48984, 6055, 10836, 19479, 49571, 4758, 49828, 41225, 46292, 39015, 39207, 11978, 12189, 45398, 30770, 221, 16657, 6478, 14328, 14292, 25088, 48936, 16044, 16898, 35115, 12353, 39263, 26856, 35249, 9032, 14872, 14624, 36953, 23565, 21972, 4380, 29811, 22774, 27496, 943, 30411, 4274, 23693, 22813, 21936, 23201, 21679, 21840, 16509, 21337, 23871, 36802, 26035, 19167, 17624, 48757, 32461, 441, 23707, 23214, 41373, 13620, 12401, 13912, 10702, 7468, 1058, 15239, 41744, 2483, 13406, 40669, 27854, 33713, 46704, 3860, 22262, 8926, 32265, 29981, 16816, 40702, 9326, 631, 11866, 25013, 15835, 46151, 6679, 8241, 41829, 34869, 14891, 17592, 37659, 43350, 34104, 1439, 16978, 2272, 23890, 16281, 44205, 49916, 35036, 24281, 15699, 47886, 46431, 10003, 32023, 3541, 15374, 44444, 6718, 25128, 44822, 49654, 15520, 46138, 2487, 7306, 30071, 35693, 33695, 4474, 16108, 39612, 39298, 4955, 35274, 21681, 5483, 35236, 33869, 30357, 8073, 29407, 33406, 4724, 27386, 32619, 37393, 34834, 41957, 40592, 33446, 8787, 29056, 26338, 10245, 19402, 21134, 2031, 16090, 22597, 29446, 3303, 48872, 18774, 43001, 21319, 3738, 13015, 12806, 23408, 7376, 38413, 2670, 8489, 32578, 7361, 49744, 5911, 45898, 49446, 2229, 30916, 20370, 45635, 37808, 5675, 2817, 17066, 26898, 22462, 23534, 20118, 5787, 38111, 62, 37823, 34333, 2096, 12351, 45868, 21431, 39864, 27902, 24444, 30252, 38276, 9617, 45446, 14010, 34582, 48225, 22954, 47531, 4225, 47999, 2434, 40495, 33317, 28955, 4891, 39802, 39210, 773, 48249, 40691, 13614, 42701, 33946, 18959, 10864, 6775, 27643, 580, 29414, 3350, 2110, 36091, 34657, 47646, 25348, 4292, 49887, 8006, 31125, 10102, 46068, 9818, 10065, 16902, 7941, 49415, 38255, 6964, 18675, 15161, 48342, 34655, 2721, 18515, 6250, 17881, 34315, 32727, 48943, 2918, 30926, 29949, 36892, 13449, 28507, 17736, 23965, 21565, 33861, 23827, 34718, 41950, 7329, 45717, 19336, 46015, 45461, 10279, 13720, 22022, 1314, 8031, 43485, 16473, 8138, 39908, 5573, 13266, 13992, 29690, 12087, 31157, 3384, 27541, 23865, 22600, 41954, 9922, 49182, 46223, 46499, 30388, 309, 35540, 37002, 42236, 6627, 13460, 23669, 291, 42254, 49968, 40738, 11261, 39981, 29764, 31640, 15328, 28782, 33459, 7947, 34441, 36939, 9122, 9282, 4800, 23472, 16342, 39419, 1337, 43872, 1087, 11569, 19696, 14714, 24185, 8022, 23538, 2952, 41585, 5255, 35917, 49220, 31187, 49899, 17250, 22000, 8700, 25111, 28125, 19129, 40255, 42249, 12855, 19768, 190, 1370, 13572, 29030, 42449, 39253, 20873, 40864, 20942, 30294, 32955, 13893, 10290, 46488, 16027, 870, 18125, 9109, 49657, 4646, 16608, 17125, 39937, 26140, 8588, 4461, 24435, 27067, 14132, 44304, 5377, 23535, 20875, 601, 39011, 28762, 11886, 25078, 9651, 1282, 9415, 24139, 47164]\n"
     ]
    },
    {
     "ename": "IndexError",
     "evalue": "index 46078 is out of bounds for axis 0 with size 3",
     "output_type": "error",
     "traceback": [
      "\u001b[0;31m---------------------------------------------------------------------------\u001b[0m",
      "\u001b[0;31mIndexError\u001b[0m                                Traceback (most recent call last)",
      "Cell \u001b[0;32mIn[173], line 1\u001b[0m\n\u001b[0;32m----> 1\u001b[0m train_loader, test_loader \u001b[39m=\u001b[39m get_data_loaders(num_clients, batch_size, classes_pc\u001b[39m=\u001b[39;49m\u001b[39m2\u001b[39;49m, real_wd\u001b[39m=\u001b[39;49m\u001b[39mFalse\u001b[39;49;00m, verbose\u001b[39m=\u001b[39;49m\u001b[39mTrue\u001b[39;49;00m)\n",
      "Cell \u001b[0;32mIn[163], line 13\u001b[0m, in \u001b[0;36mget_data_loaders\u001b[0;34m(nclients, batch_size, classes_pc, real_wd, verbose)\u001b[0m\n\u001b[1;32m     11\u001b[0m   split \u001b[39m=\u001b[39m split_image_data_realwd(x_train, y_train, n_clients\u001b[39m=\u001b[39mnclients, verbose \u001b[39m=\u001b[39m verbose)\n\u001b[1;32m     12\u001b[0m \u001b[39melse\u001b[39;00m:  \n\u001b[0;32m---> 13\u001b[0m   split \u001b[39m=\u001b[39m split_image_data(x_train, y_train, n_clients\u001b[39m=\u001b[39;49mnclients, classes_per_client\u001b[39m=\u001b[39;49mclasses_pc, verbose\u001b[39m=\u001b[39;49mverbose)\n\u001b[1;32m     15\u001b[0m split_tmp \u001b[39m=\u001b[39m split \u001b[39m#shuffle_list(split)\u001b[39;00m\n\u001b[1;32m     17\u001b[0m client_loaders \u001b[39m=\u001b[39m [torch\u001b[39m.\u001b[39mutils\u001b[39m.\u001b[39mdata\u001b[39m.\u001b[39mDataLoader(CustomImageDataset(x, y, transforms_train), batch_size\u001b[39m=\u001b[39mbatch_size, shuffle\u001b[39m=\u001b[39m\u001b[39mTrue\u001b[39;00m) \u001b[39mfor\u001b[39;00m x, y \u001b[39min\u001b[39;00m split_tmp]\n",
      "Cell \u001b[0;32mIn[172], line 59\u001b[0m, in \u001b[0;36msplit_image_data\u001b[0;34m(data, labels, n_clients, classes_per_client, shuffle, verbose)\u001b[0m\n\u001b[1;32m     57\u001b[0m     c \u001b[39m=\u001b[39m (c \u001b[39m+\u001b[39m \u001b[39m1\u001b[39m) \u001b[39m%\u001b[39m n_labels\n\u001b[1;32m     58\u001b[0m   \u001b[39mprint\u001b[39m(\u001b[39mf\u001b[39m\u001b[39m\"\u001b[39m\u001b[39mNoise: \u001b[39m\u001b[39m{\u001b[39;00mshare_idcs\u001b[39m}\u001b[39;00m\u001b[39m\"\u001b[39m)\n\u001b[0;32m---> 59\u001b[0m   clients_split \u001b[39m+\u001b[39m\u001b[39m=\u001b[39m [(np\u001b[39m.\u001b[39mconcatenate((data[client_idcs], noise_data[share_idcs])), labels[(client_idcs \u001b[39m+\u001b[39m share_idcs)])]\n\u001b[1;32m     61\u001b[0m \u001b[39mdef\u001b[39;00m \u001b[39mprint_split\u001b[39m(clients_split): \n\u001b[1;32m     62\u001b[0m   \u001b[39mprint\u001b[39m(\u001b[39m\"\u001b[39m\u001b[39mData split:\u001b[39m\u001b[39m\"\u001b[39m)\n",
      "\u001b[0;31mIndexError\u001b[0m: index 46078 is out of bounds for axis 0 with size 3"
     ]
    }
   ],
   "source": [
    "train_loader, test_loader = get_data_loaders(num_clients, batch_size, classes_pc=2, real_wd=False, verbose=True)"
   ]
  },
  {
   "cell_type": "code",
   "execution_count": 97,
   "metadata": {},
   "outputs": [
    {
     "data": {
      "text/plain": [
       "torch.utils.data.dataloader.DataLoader"
      ]
     },
     "execution_count": 97,
     "metadata": {},
     "output_type": "execute_result"
    }
   ],
   "source": [
    "type(train_loader[0])"
   ]
  },
  {
   "cell_type": "code",
   "execution_count": 98,
   "metadata": {},
   "outputs": [],
   "source": [
    "# images, labels = next(iter(train_loader[0]))"
   ]
  },
  {
   "cell_type": "code",
   "execution_count": 24,
   "metadata": {},
   "outputs": [],
   "source": [
    "# images[0]"
   ]
  },
  {
   "cell_type": "code",
   "execution_count": 25,
   "metadata": {},
   "outputs": [],
   "source": [
    "\n",
    "#################################\n",
    "##### Neural Network model #####\n",
    "#################################\n",
    "\n",
    "cfg = {\n",
    "    'VGG11': [64, 'M', 128, 'M', 256, 256, 'M', 512, 512, 'M', 512, 512, 'M'],\n",
    "    'VGG13': [64, 64, 'M', 128, 128, 'M', 256, 256, 'M', 512, 512, 'M', 512, 512, 'M'],\n",
    "    'VGG16': [64, 64, 'M', 128, 128, 'M', 256, 256, 256, 'M', 512, 512, 512, 'M', 512, 512, 512, 'M'],\n",
    "    'VGG19': [64, 64, 'M', 128, 128, 'M', 256, 256, 256, 256, 'M', 512, 512, 512, 512, 'M', 512, 512, 512, 512, 'M'],\n",
    "}\n",
    "\n",
    "class VGG(nn.Module):\n",
    "    def __init__(self, vgg_name):\n",
    "        super(VGG, self).__init__()\n",
    "        self.features = self._make_layers(cfg[vgg_name])\n",
    "        self.classifier = nn.Sequential(\n",
    "            nn.Linear(512, 512),\n",
    "            nn.ReLU(True),\n",
    "            nn.Linear(512, 512),\n",
    "            nn.ReLU(True),\n",
    "            nn.Linear(512, 10)\n",
    "        )\n",
    "\n",
    "    def forward(self, x):\n",
    "        out = self.features(x)\n",
    "        out = out.view(out.size(0), -1)\n",
    "        out = self.classifier(out)\n",
    "        output = F.log_softmax(out, dim=1)\n",
    "        return output\n",
    "\n",
    "    def _make_layers(self, cfg):\n",
    "        layers = []\n",
    "        in_channels = 3\n",
    "        for x in cfg:\n",
    "            if x == 'M':\n",
    "                layers += [nn.MaxPool2d(kernel_size=2, stride=2)]\n",
    "            else:\n",
    "                layers += [nn.Conv2d(in_channels, x, kernel_size=3, padding=1),\n",
    "                           nn.BatchNorm2d(x),\n",
    "                           nn.ReLU(inplace=True)]\n",
    "                in_channels = x\n",
    "        layers += [nn.AvgPool2d(kernel_size=1, stride=1)]\n",
    "        return nn.Sequential(*layers)"
   ]
  },
  {
   "cell_type": "code",
   "execution_count": 26,
   "metadata": {},
   "outputs": [],
   "source": [
    "def client_update(client_model, optimizer, train_loader, epoch=5):\n",
    "    \"\"\"\n",
    "    This function updates/trains client model on client data\n",
    "    \"\"\"\n",
    "    model.train()\n",
    "    for e in range(epoch):\n",
    "        for batch_idx, (data, target) in enumerate(train_loader):\n",
    "            data, target = data.cuda(), target.cuda()\n",
    "            optimizer.zero_grad()\n",
    "            output = client_model(data)\n",
    "            loss = F.nll_loss(output, target)\n",
    "            loss.backward()\n",
    "            optimizer.step()\n",
    "    return loss.item()"
   ]
  },
  {
   "cell_type": "code",
   "execution_count": 27,
   "metadata": {},
   "outputs": [],
   "source": [
    "\n",
    "def server_aggregate(global_model, client_models):\n",
    "    \"\"\"\n",
    "    This function has aggregation method 'mean'\n",
    "    \"\"\"\n",
    "    ### This will take simple mean of the weights of models ###\n",
    "    global_dict = global_model.state_dict()\n",
    "    for k in global_dict.keys():\n",
    "        global_dict[k] = torch.stack([client_models[i].state_dict()[k].float() for i in range(len(client_models))], 0).mean(0)\n",
    "    global_model.load_state_dict(global_dict)\n",
    "    for model in client_models:\n",
    "        model.load_state_dict(global_model.state_dict())"
   ]
  },
  {
   "cell_type": "code",
   "execution_count": 28,
   "metadata": {},
   "outputs": [],
   "source": [
    "\n",
    "def test(global_model, test_loader):\n",
    "    \"\"\"This function test the global model on test data and returns test loss and test accuracy \"\"\"\n",
    "    model.eval()\n",
    "    test_loss = 0\n",
    "    correct = 0\n",
    "    with torch.no_grad():\n",
    "        for data, target in test_loader:\n",
    "            data, target = data.cuda(), target.cuda()\n",
    "            output = global_model(data)\n",
    "            test_loss += F.nll_loss(output, target, reduction='sum').item()  # sum up batch loss\n",
    "            pred = output.argmax(dim=1, keepdim=True)  # get the index of the max log-probability\n",
    "            correct += pred.eq(target.view_as(pred)).sum().item()\n",
    "\n",
    "    test_loss /= len(test_loader.dataset)\n",
    "    acc = correct / len(test_loader.dataset)\n",
    "\n",
    "    return test_loss, acc"
   ]
  },
  {
   "cell_type": "code",
   "execution_count": 29,
   "metadata": {},
   "outputs": [],
   "source": [
    "\n",
    "############################################\n",
    "#### Initializing models and optimizer  ####\n",
    "############################################\n",
    "\n",
    "#### global model ##########\n",
    "global_model =  VGG('VGG19').cuda()\n",
    "\n",
    "############## client models ##############\n",
    "client_models = [ VGG('VGG19').cuda() for _ in range(num_selected)]\n",
    "for model in client_models:\n",
    "    model.load_state_dict(global_model.state_dict()) ### initial synchronizing with global model \n",
    "\n",
    "############### optimizers ################\n",
    "opt = [optim.SGD(model.parameters(), lr=0.1) for model in client_models]"
   ]
  },
  {
   "cell_type": "code",
   "execution_count": 30,
   "metadata": {},
   "outputs": [
    {
     "name": "stderr",
     "output_type": "stream",
     "text": [
      "  0%|          | 0/6 [00:00<?, ?it/s]\n"
     ]
    },
    {
     "ename": "NameError",
     "evalue": "name 'train_loader' is not defined",
     "output_type": "error",
     "traceback": [
      "\u001b[0;31m---------------------------------------------------------------------------\u001b[0m",
      "\u001b[0;31mNameError\u001b[0m                                 Traceback (most recent call last)",
      "Cell \u001b[0;32mIn[30], line 14\u001b[0m\n\u001b[1;32m     12\u001b[0m loss \u001b[39m=\u001b[39m \u001b[39m0\u001b[39m\n\u001b[1;32m     13\u001b[0m \u001b[39mfor\u001b[39;00m i \u001b[39min\u001b[39;00m tqdm(\u001b[39mrange\u001b[39m(num_selected)):\n\u001b[0;32m---> 14\u001b[0m     loss \u001b[39m+\u001b[39m\u001b[39m=\u001b[39m client_update(client_models[i], opt[i], train_loader[client_idx[i]], epoch\u001b[39m=\u001b[39mepochs)\n\u001b[1;32m     16\u001b[0m losses_train\u001b[39m.\u001b[39mappend(loss)\n\u001b[1;32m     17\u001b[0m \u001b[39m# server aggregate\u001b[39;00m\n",
      "\u001b[0;31mNameError\u001b[0m: name 'train_loader' is not defined"
     ]
    }
   ],
   "source": [
    "###### List containing info about learning #########\n",
    "losses_train = []\n",
    "losses_test = []\n",
    "acc_train = []\n",
    "acc_test = []\n",
    "# Runnining FL\n",
    "\n",
    "for r in range(num_rounds):\n",
    "    # select random clients\n",
    "    client_idx = np.random.permutation(num_clients)[:num_selected]\n",
    "    # client update\n",
    "    loss = 0\n",
    "    for i in tqdm(range(num_selected)):\n",
    "        loss += client_update(client_models[i], opt[i], train_loader[client_idx[i]], epoch=epochs)\n",
    "    \n",
    "    losses_train.append(loss)\n",
    "    # server aggregate\n",
    "    server_aggregate(global_model, client_models)\n",
    "    \n",
    "    test_loss, acc = test(global_model, test_loader)\n",
    "    losses_test.append(test_loss)\n",
    "    acc_test.append(acc)\n",
    "    print('%d-th round' % r)\n",
    "    print('average train loss %0.3g | test loss %0.3g | test acc: %0.3f' % (loss / num_selected, test_loss, acc))\n"
   ]
  },
  {
   "cell_type": "code",
   "execution_count": null,
   "metadata": {},
   "outputs": [
    {
     "data": {
      "text/plain": [
       "0.7254171467218226"
      ]
     },
     "execution_count": 173,
     "metadata": {},
     "output_type": "execute_result"
    }
   ],
   "source": [
    "np.random.rand()"
   ]
  },
  {
   "attachments": {},
   "cell_type": "markdown",
   "metadata": {},
   "source": [
    "### 50 Rounds\n",
    "100 standard deviation gaussian noise accuracy hovered around .163, (all samples)\n",
    "\n",
    "similar results with half samples at 50 std.\n",
    "\n",
    "20% application on 20 std accuracy a little better at .2"
   ]
  },
  {
   "cell_type": "code",
   "execution_count": null,
   "metadata": {},
   "outputs": [],
   "source": []
  },
  {
   "attachments": {},
   "cell_type": "markdown",
   "metadata": {},
   "source": [
    "std 3 80% application accuracy close to .74"
   ]
  },
  {
   "attachments": {},
   "cell_type": "markdown",
   "metadata": {},
   "source": [
    "### Each Client Gets 2 classes\n",
    "this leaves us with accuracy hovering around .35 "
   ]
  },
  {
   "attachments": {},
   "cell_type": "markdown",
   "metadata": {},
   "source": [
    ".3 application .7 accuracy\n",
    "\n",
    ".8 application .8 accuracy later\n",
    "\n",
    "Does well on full application (std 3) with around .7 accuracy\n",
    "\n",
    ".8 application 20 gaussian does well still\n",
    "\n",
    ".8 application 50 guassian .6 accuracy\n",
    "\n",
    ".65 accuracy .2 normal .2 gaussian .6 natural images"
   ]
  },
  {
   "cell_type": "markdown",
   "metadata": {},
   "source": []
  }
 ],
 "metadata": {
  "kernelspec": {
   "display_name": "Python 3",
   "language": "python",
   "name": "python3"
  },
  "language_info": {
   "codemirror_mode": {
    "name": "ipython",
    "version": 3
   },
   "file_extension": ".py",
   "mimetype": "text/x-python",
   "name": "python",
   "nbconvert_exporter": "python",
   "pygments_lexer": "ipython3",
   "version": "3.8.10"
  },
  "orig_nbformat": 4,
  "vscode": {
   "interpreter": {
    "hash": "e7370f93d1d0cde622a1f8e1c04877d8463912d04d973331ad4851f04de6915a"
   }
  }
 },
 "nbformat": 4,
 "nbformat_minor": 2
}
